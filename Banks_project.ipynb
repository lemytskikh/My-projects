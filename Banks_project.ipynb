{
 "cells": [
  {
   "cell_type": "markdown",
   "metadata": {},
   "source": [
    "### Задача:\n",
    "\n",
    "Проанализируйте клиентов регионального банка и сегментировать пользователей по количеству потребляемых продуктов.\n",
    "\n",
    "- Проведите исследовательский анализ данных,\n",
    "- Сегментируйте пользователей на основе данных о количестве потребляемых продуктов,\n",
    "- Сформулируйте и проверьте статистические гипотезы.\n",
    "\n",
    "    *Проверьте гипотезу различия дохода между теми клиентами, которые пользуются двумя продуктами банка, и теми, которые пользуются одним.*\n",
    "\n",
    "    *Сформулируйте и проверьте статистическую гипотезу относительно представленных данных.*"
   ]
  },
  {
   "cell_type": "markdown",
   "metadata": {},
   "source": [
    "# Декомпозиция"
   ]
  },
  {
   "cell_type": "markdown",
   "metadata": {},
   "source": [
    "<a href='#the_destination1'>Шаг 1. Загрзука данных, получение информации о данных и предобработка данных.</a>\n",
    "\n",
    "   <a href='#the_destination11'>1.1 Проверить название столбцов и поправить для удобства работы их названия, привести к нижнему регистру.</a>\n",
    "    \n",
    "   <a href='#the_destination12'>1.2 Работа с типами данных.</a>\n",
    "    \n",
    "   <a href='#the_destination13'>1.3 Обработать пропуски и проверить данные на дубликаты.</a>\n",
    "    \n",
    "   <a href='#the_destination14'>1.4 Вывод.</a>\n",
    "\n",
    "\n",
    "<a href='#the_destination2'>Шаг 2. EDA.</a>\n",
    "\n",
    "   <a href='#the_destination21'>2.1 Проверить данные на аномалии.</a>\n",
    "    \n",
    "   <a href='#the_destination22'>2.2 Изучить распределение признаков.</a>\n",
    "    \n",
    "   <a href='#the_destination23'>2.3 Корреляционного анализа данных.</a>\n",
    "    \n",
    "   <a href='#the_destination24'>2.4 Выводы на основании графиков и корреляционного анализа.</a>\n",
    "\n",
    "\n",
    "<a href='#the_destination3'>Шаг 3. Сегментировать пользователей на основе данных о количестве потребляемых продуктов.</a>\n",
    "\n",
    "   <a href='#the_destination31'>3.1 Сегментировать пользователей по кол-ву потребляемых продуктов.</a>\n",
    "   \n",
    "   <a href='#the_destination32'>3.2 Сегментация клиентов с по кол-ву исользуемых продуктов с учетом города и пола.</a>\n",
    "   \n",
    "   <a href='#the_destination33'> 3.3 Построим графики распределения с учтом кол-во используемых продуктов.</a>\n",
    "\n",
    "<a href='#the_destination4'>Шаг 4. Сформулировать и проверить статистические гипотезы.</a>\n",
    "\n",
    "   <a href='#the_destination41'>4.1 Проверьте гипотезу различия дохода между теми клиентами, которые пользуются двумя продуктами банка, и теми, которые пользуются одним.</a>\n",
    "       \n",
    "   <a href='#the_destination42'>4.2 Сформулировать и проверьте статистическую гипотезу относительно представленных данных.</a>\n",
    "\n",
    "<a href='#the_destination5'>Шаг 5. Общий вывод и рекомендации</a>"
   ]
  },
  {
   "cell_type": "markdown",
   "metadata": {},
   "source": []
  },
  {
   "cell_type": "code",
   "execution_count": 1,
   "metadata": {},
   "outputs": [],
   "source": [
    "#Добавим необходимые бибилиотеки для работы\n",
    "import pandas as pd\n",
    "import matplotlib.pyplot as plt\n",
    "import seaborn as sns\n",
    "from scipy import stats as st\n",
    "import numpy as np"
   ]
  },
  {
   "cell_type": "markdown",
   "metadata": {},
   "source": [
    "<a id='the_destination1'></a>"
   ]
  },
  {
   "cell_type": "markdown",
   "metadata": {},
   "source": [
    "# Шаг 1. Загрзука данных, получение информации о данных и предобработка данных."
   ]
  },
  {
   "cell_type": "code",
   "execution_count": 2,
   "metadata": {},
   "outputs": [
    {
     "data": {
      "text/html": [
       "<div>\n",
       "<style scoped>\n",
       "    .dataframe tbody tr th:only-of-type {\n",
       "        vertical-align: middle;\n",
       "    }\n",
       "\n",
       "    .dataframe tbody tr th {\n",
       "        vertical-align: top;\n",
       "    }\n",
       "\n",
       "    .dataframe thead th {\n",
       "        text-align: right;\n",
       "    }\n",
       "</style>\n",
       "<table border=\"1\" class=\"dataframe\">\n",
       "  <thead>\n",
       "    <tr style=\"text-align: right;\">\n",
       "      <th></th>\n",
       "      <th>userid</th>\n",
       "      <th>score</th>\n",
       "      <th>City</th>\n",
       "      <th>Gender</th>\n",
       "      <th>Age</th>\n",
       "      <th>Objects</th>\n",
       "      <th>Balance</th>\n",
       "      <th>Products</th>\n",
       "      <th>CreditCard</th>\n",
       "      <th>Loyalty</th>\n",
       "      <th>estimated_salary</th>\n",
       "      <th>Churn</th>\n",
       "    </tr>\n",
       "  </thead>\n",
       "  <tbody>\n",
       "    <tr>\n",
       "      <td>0</td>\n",
       "      <td>15677338</td>\n",
       "      <td>619</td>\n",
       "      <td>Ярославль</td>\n",
       "      <td>Ж</td>\n",
       "      <td>42</td>\n",
       "      <td>2</td>\n",
       "      <td>NaN</td>\n",
       "      <td>1</td>\n",
       "      <td>1</td>\n",
       "      <td>1</td>\n",
       "      <td>101348.88</td>\n",
       "      <td>1</td>\n",
       "    </tr>\n",
       "    <tr>\n",
       "      <td>1</td>\n",
       "      <td>15690047</td>\n",
       "      <td>608</td>\n",
       "      <td>Рыбинск</td>\n",
       "      <td>Ж</td>\n",
       "      <td>41</td>\n",
       "      <td>1</td>\n",
       "      <td>83807.86</td>\n",
       "      <td>1</td>\n",
       "      <td>0</td>\n",
       "      <td>1</td>\n",
       "      <td>112542.58</td>\n",
       "      <td>0</td>\n",
       "    </tr>\n",
       "    <tr>\n",
       "      <td>2</td>\n",
       "      <td>15662040</td>\n",
       "      <td>502</td>\n",
       "      <td>Ярославль</td>\n",
       "      <td>Ж</td>\n",
       "      <td>42</td>\n",
       "      <td>8</td>\n",
       "      <td>159660.80</td>\n",
       "      <td>3</td>\n",
       "      <td>1</td>\n",
       "      <td>0</td>\n",
       "      <td>113931.57</td>\n",
       "      <td>1</td>\n",
       "    </tr>\n",
       "    <tr>\n",
       "      <td>3</td>\n",
       "      <td>15744090</td>\n",
       "      <td>699</td>\n",
       "      <td>Ярославль</td>\n",
       "      <td>Ж</td>\n",
       "      <td>39</td>\n",
       "      <td>1</td>\n",
       "      <td>NaN</td>\n",
       "      <td>2</td>\n",
       "      <td>0</td>\n",
       "      <td>0</td>\n",
       "      <td>93826.63</td>\n",
       "      <td>0</td>\n",
       "    </tr>\n",
       "    <tr>\n",
       "      <td>4</td>\n",
       "      <td>15780624</td>\n",
       "      <td>850</td>\n",
       "      <td>Рыбинск</td>\n",
       "      <td>Ж</td>\n",
       "      <td>43</td>\n",
       "      <td>2</td>\n",
       "      <td>125510.82</td>\n",
       "      <td>1</td>\n",
       "      <td>1</td>\n",
       "      <td>1</td>\n",
       "      <td>79084.10</td>\n",
       "      <td>0</td>\n",
       "    </tr>\n",
       "    <tr>\n",
       "      <td>5</td>\n",
       "      <td>15616748</td>\n",
       "      <td>645</td>\n",
       "      <td>Рыбинск</td>\n",
       "      <td>М</td>\n",
       "      <td>44</td>\n",
       "      <td>8</td>\n",
       "      <td>113755.78</td>\n",
       "      <td>2</td>\n",
       "      <td>1</td>\n",
       "      <td>0</td>\n",
       "      <td>149756.71</td>\n",
       "      <td>1</td>\n",
       "    </tr>\n",
       "    <tr>\n",
       "      <td>6</td>\n",
       "      <td>15635267</td>\n",
       "      <td>822</td>\n",
       "      <td>Ярославль</td>\n",
       "      <td>М</td>\n",
       "      <td>50</td>\n",
       "      <td>7</td>\n",
       "      <td>NaN</td>\n",
       "      <td>2</td>\n",
       "      <td>1</td>\n",
       "      <td>1</td>\n",
       "      <td>10062.80</td>\n",
       "      <td>0</td>\n",
       "    </tr>\n",
       "    <tr>\n",
       "      <td>7</td>\n",
       "      <td>15698884</td>\n",
       "      <td>376</td>\n",
       "      <td>Ростов Великий</td>\n",
       "      <td>Ж</td>\n",
       "      <td>29</td>\n",
       "      <td>4</td>\n",
       "      <td>115046.74</td>\n",
       "      <td>4</td>\n",
       "      <td>1</td>\n",
       "      <td>0</td>\n",
       "      <td>119346.88</td>\n",
       "      <td>1</td>\n",
       "    </tr>\n",
       "    <tr>\n",
       "      <td>8</td>\n",
       "      <td>15835101</td>\n",
       "      <td>501</td>\n",
       "      <td>Ярославль</td>\n",
       "      <td>М</td>\n",
       "      <td>44</td>\n",
       "      <td>4</td>\n",
       "      <td>142051.07</td>\n",
       "      <td>2</td>\n",
       "      <td>0</td>\n",
       "      <td>1</td>\n",
       "      <td>74940.50</td>\n",
       "      <td>0</td>\n",
       "    </tr>\n",
       "    <tr>\n",
       "      <td>9</td>\n",
       "      <td>15635125</td>\n",
       "      <td>684</td>\n",
       "      <td>Ярославль</td>\n",
       "      <td>М</td>\n",
       "      <td>27</td>\n",
       "      <td>2</td>\n",
       "      <td>134603.88</td>\n",
       "      <td>1</td>\n",
       "      <td>1</td>\n",
       "      <td>1</td>\n",
       "      <td>71725.73</td>\n",
       "      <td>0</td>\n",
       "    </tr>\n",
       "  </tbody>\n",
       "</table>\n",
       "</div>"
      ],
      "text/plain": [
       "     userid  score            City Gender  Age  Objects    Balance  Products  \\\n",
       "0  15677338    619       Ярославль      Ж   42        2        NaN         1   \n",
       "1  15690047    608         Рыбинск      Ж   41        1   83807.86         1   \n",
       "2  15662040    502       Ярославль      Ж   42        8  159660.80         3   \n",
       "3  15744090    699       Ярославль      Ж   39        1        NaN         2   \n",
       "4  15780624    850         Рыбинск      Ж   43        2  125510.82         1   \n",
       "5  15616748    645         Рыбинск      М   44        8  113755.78         2   \n",
       "6  15635267    822       Ярославль      М   50        7        NaN         2   \n",
       "7  15698884    376  Ростов Великий      Ж   29        4  115046.74         4   \n",
       "8  15835101    501       Ярославль      М   44        4  142051.07         2   \n",
       "9  15635125    684       Ярославль      М   27        2  134603.88         1   \n",
       "\n",
       "   CreditCard  Loyalty  estimated_salary  Churn  \n",
       "0           1        1         101348.88      1  \n",
       "1           0        1         112542.58      0  \n",
       "2           1        0         113931.57      1  \n",
       "3           0        0          93826.63      0  \n",
       "4           1        1          79084.10      0  \n",
       "5           1        0         149756.71      1  \n",
       "6           1        1          10062.80      0  \n",
       "7           1        0         119346.88      1  \n",
       "8           0        1          74940.50      0  \n",
       "9           1        1          71725.73      0  "
      ]
     },
     "metadata": {},
     "output_type": "display_data"
    },
    {
     "name": "stdout",
     "output_type": "stream",
     "text": [
      "\n",
      "--------------------------------------------------\n",
      "\n",
      "<class 'pandas.core.frame.DataFrame'>\n",
      "RangeIndex: 10000 entries, 0 to 9999\n",
      "Data columns (total 12 columns):\n",
      "userid              10000 non-null int64\n",
      "score               10000 non-null int64\n",
      "City                10000 non-null object\n",
      "Gender              10000 non-null object\n",
      "Age                 10000 non-null int64\n",
      "Objects             10000 non-null int64\n",
      "Balance             6383 non-null float64\n",
      "Products            10000 non-null int64\n",
      "CreditCard          10000 non-null int64\n",
      "Loyalty             10000 non-null int64\n",
      "estimated_salary    10000 non-null float64\n",
      "Churn               10000 non-null int64\n",
      "dtypes: float64(2), int64(8), object(2)\n",
      "memory usage: 937.6+ KB\n",
      "None\n"
     ]
    }
   ],
   "source": [
    "data_bank = pd.read_csv('C:\\\\Users\\\\C\\\\Documents\\\\Итоговый проект\\\\bank_dataset.csv')\n",
    "\n",
    "display(data_bank.head(10))\n",
    "print()\n",
    "print('--------------------------------------------------')\n",
    "print()\n",
    "print(data_bank.info())"
   ]
  },
  {
   "cell_type": "markdown",
   "metadata": {},
   "source": [
    "<a id='the_destination11'></a>"
   ]
  },
  {
   "cell_type": "markdown",
   "metadata": {},
   "source": [
    "### 1.1 Проверить название столбцов и поправить для удобства работы их названия, привести к нижнему регистру."
   ]
  },
  {
   "cell_type": "code",
   "execution_count": 3,
   "metadata": {},
   "outputs": [
    {
     "data": {
      "text/html": [
       "<div>\n",
       "<style scoped>\n",
       "    .dataframe tbody tr th:only-of-type {\n",
       "        vertical-align: middle;\n",
       "    }\n",
       "\n",
       "    .dataframe tbody tr th {\n",
       "        vertical-align: top;\n",
       "    }\n",
       "\n",
       "    .dataframe thead th {\n",
       "        text-align: right;\n",
       "    }\n",
       "</style>\n",
       "<table border=\"1\" class=\"dataframe\">\n",
       "  <thead>\n",
       "    <tr style=\"text-align: right;\">\n",
       "      <th></th>\n",
       "      <th>userid</th>\n",
       "      <th>score</th>\n",
       "      <th>city</th>\n",
       "      <th>gender</th>\n",
       "      <th>age</th>\n",
       "      <th>objects</th>\n",
       "      <th>balance</th>\n",
       "      <th>products</th>\n",
       "      <th>creditcard</th>\n",
       "      <th>loyalty</th>\n",
       "      <th>estimated_salary</th>\n",
       "      <th>churn</th>\n",
       "    </tr>\n",
       "  </thead>\n",
       "  <tbody>\n",
       "    <tr>\n",
       "      <td>0</td>\n",
       "      <td>15677338</td>\n",
       "      <td>619</td>\n",
       "      <td>Ярославль</td>\n",
       "      <td>Ж</td>\n",
       "      <td>42</td>\n",
       "      <td>2</td>\n",
       "      <td>NaN</td>\n",
       "      <td>1</td>\n",
       "      <td>1</td>\n",
       "      <td>1</td>\n",
       "      <td>101348.88</td>\n",
       "      <td>1</td>\n",
       "    </tr>\n",
       "    <tr>\n",
       "      <td>1</td>\n",
       "      <td>15690047</td>\n",
       "      <td>608</td>\n",
       "      <td>Рыбинск</td>\n",
       "      <td>Ж</td>\n",
       "      <td>41</td>\n",
       "      <td>1</td>\n",
       "      <td>83807.86</td>\n",
       "      <td>1</td>\n",
       "      <td>0</td>\n",
       "      <td>1</td>\n",
       "      <td>112542.58</td>\n",
       "      <td>0</td>\n",
       "    </tr>\n",
       "    <tr>\n",
       "      <td>2</td>\n",
       "      <td>15662040</td>\n",
       "      <td>502</td>\n",
       "      <td>Ярославль</td>\n",
       "      <td>Ж</td>\n",
       "      <td>42</td>\n",
       "      <td>8</td>\n",
       "      <td>159660.80</td>\n",
       "      <td>3</td>\n",
       "      <td>1</td>\n",
       "      <td>0</td>\n",
       "      <td>113931.57</td>\n",
       "      <td>1</td>\n",
       "    </tr>\n",
       "    <tr>\n",
       "      <td>3</td>\n",
       "      <td>15744090</td>\n",
       "      <td>699</td>\n",
       "      <td>Ярославль</td>\n",
       "      <td>Ж</td>\n",
       "      <td>39</td>\n",
       "      <td>1</td>\n",
       "      <td>NaN</td>\n",
       "      <td>2</td>\n",
       "      <td>0</td>\n",
       "      <td>0</td>\n",
       "      <td>93826.63</td>\n",
       "      <td>0</td>\n",
       "    </tr>\n",
       "    <tr>\n",
       "      <td>4</td>\n",
       "      <td>15780624</td>\n",
       "      <td>850</td>\n",
       "      <td>Рыбинск</td>\n",
       "      <td>Ж</td>\n",
       "      <td>43</td>\n",
       "      <td>2</td>\n",
       "      <td>125510.82</td>\n",
       "      <td>1</td>\n",
       "      <td>1</td>\n",
       "      <td>1</td>\n",
       "      <td>79084.10</td>\n",
       "      <td>0</td>\n",
       "    </tr>\n",
       "  </tbody>\n",
       "</table>\n",
       "</div>"
      ],
      "text/plain": [
       "     userid  score       city gender  age  objects    balance  products  \\\n",
       "0  15677338    619  Ярославль      Ж   42        2        NaN         1   \n",
       "1  15690047    608    Рыбинск      Ж   41        1   83807.86         1   \n",
       "2  15662040    502  Ярославль      Ж   42        8  159660.80         3   \n",
       "3  15744090    699  Ярославль      Ж   39        1        NaN         2   \n",
       "4  15780624    850    Рыбинск      Ж   43        2  125510.82         1   \n",
       "\n",
       "   creditcard  loyalty  estimated_salary  churn  \n",
       "0           1        1         101348.88      1  \n",
       "1           0        1         112542.58      0  \n",
       "2           1        0         113931.57      1  \n",
       "3           0        0          93826.63      0  \n",
       "4           1        1          79084.10      0  "
      ]
     },
     "execution_count": 3,
     "metadata": {},
     "output_type": "execute_result"
    }
   ],
   "source": [
    "#приведем столбцы к нижнему регистру\n",
    "data_bank.columns = map(str.lower, data_bank.columns)\n",
    "data_bank.head()"
   ]
  },
  {
   "cell_type": "markdown",
   "metadata": {},
   "source": [
    "<a id='the_destination12'></a>"
   ]
  },
  {
   "cell_type": "markdown",
   "metadata": {},
   "source": [
    "### 1.2 Работа с типами данных.\n",
    "\n",
    "Данный пункт не требуется выполнять, все форматы корректные."
   ]
  },
  {
   "cell_type": "code",
   "execution_count": 4,
   "metadata": {},
   "outputs": [
    {
     "data": {
      "text/plain": [
       "userid                int64\n",
       "score                 int64\n",
       "city                 object\n",
       "gender               object\n",
       "age                   int64\n",
       "objects               int64\n",
       "balance             float64\n",
       "products              int64\n",
       "creditcard            int64\n",
       "loyalty               int64\n",
       "estimated_salary    float64\n",
       "churn                 int64\n",
       "dtype: object"
      ]
     },
     "execution_count": 4,
     "metadata": {},
     "output_type": "execute_result"
    }
   ],
   "source": [
    "data_bank.dtypes"
   ]
  },
  {
   "cell_type": "markdown",
   "metadata": {},
   "source": [
    "<a id='the_destination13'></a>"
   ]
  },
  {
   "cell_type": "markdown",
   "metadata": {},
   "source": [
    "### 1.3 Обработать пропуски и проверить данные на дубликаты."
   ]
  },
  {
   "cell_type": "code",
   "execution_count": 5,
   "metadata": {},
   "outputs": [
    {
     "name": "stdout",
     "output_type": "stream",
     "text": [
      "0\n"
     ]
    }
   ],
   "source": [
    "# Проверим на дубликаты.\n",
    "print(data_bank.duplicated().sum())"
   ]
  },
  {
   "cell_type": "code",
   "execution_count": 6,
   "metadata": {},
   "outputs": [
    {
     "name": "stdout",
     "output_type": "stream",
     "text": [
      "Минимальное ззначение: 3768.69\n"
     ]
    }
   ],
   "source": [
    "# Чтобы решить как обработать пропущеные значения в столбце баланса посмотрим какое минимальное значение\n",
    "print('Минимальное ззначение:', data_bank['balance'].min())"
   ]
  },
  {
   "cell_type": "code",
   "execution_count": 7,
   "metadata": {},
   "outputs": [
    {
     "data": {
      "text/plain": [
       "Text(0.5, 1.0, 'График, при заполнении пропусков нулями')"
      ]
     },
     "execution_count": 7,
     "metadata": {},
     "output_type": "execute_result"
    },
    {
     "data": {
      "image/png": "[encoded data removed]",
      "text/plain": [
       "<Figure size 432x288 with 1 Axes>"
      ]
     },
     "metadata": {
      "needs_background": "light"
     },
     "output_type": "display_data"
    }
   ],
   "source": [
    "# Заменим пропуски на нули\n",
    "db_0 = data_bank.fillna(0)\n",
    "db_0.boxplot(column='balance')\n",
    "plt.title('График, при заполнении пропусков нулями')"
   ]
  },
  {
   "cell_type": "code",
   "execution_count": 8,
   "metadata": {},
   "outputs": [
    {
     "data": {
      "text/plain": [
       "Text(0.5, 1.0, 'График, при не заполнении пропусков нулями')"
      ]
     },
     "execution_count": 8,
     "metadata": {},
     "output_type": "execute_result"
    },
    {
     "data": {
      "image/png": "[encoded data removed]",
      "text/plain": [
       "<Figure size 432x288 with 1 Axes>"
      ]
     },
     "metadata": {
      "needs_background": "light"
     },
     "output_type": "display_data"
    }
   ],
   "source": [
    "data_bank.boxplot(column='balance')\n",
    "plt.title('График, при не заполнении пропусков нулями')"
   ]
  },
  {
   "cell_type": "markdown",
   "metadata": {},
   "source": [
    "\n",
    "При рассмотрения двух графиков при обработанных пропусках (пропуски заменены на ноль) и при не обработанных (с пропущеными значениями) видно , что если не обрабатывать пропуски, то достаточно много значений с не тиичным балансом для клиентов. А если обработать, то нетипичных значений нет. Мое первое утверждение было ошибочным. \n",
    "\n",
    "Исходя из этого более логичней запонить пропуски нулями."
   ]
  },
  {
   "cell_type": "code",
   "execution_count": 9,
   "metadata": {},
   "outputs": [
    {
     "name": "stdout",
     "output_type": "stream",
     "text": [
      "<class 'pandas.core.frame.DataFrame'>\n",
      "RangeIndex: 10000 entries, 0 to 9999\n",
      "Data columns (total 12 columns):\n",
      "userid              10000 non-null int64\n",
      "score               10000 non-null int64\n",
      "city                10000 non-null object\n",
      "gender              10000 non-null object\n",
      "age                 10000 non-null int64\n",
      "objects             10000 non-null int64\n",
      "balance             10000 non-null float64\n",
      "products            10000 non-null int64\n",
      "creditcard          10000 non-null int64\n",
      "loyalty             10000 non-null int64\n",
      "estimated_salary    10000 non-null float64\n",
      "churn               10000 non-null int64\n",
      "dtypes: float64(2), int64(8), object(2)\n",
      "memory usage: 937.6+ KB\n"
     ]
    }
   ],
   "source": [
    "data_bank = data_bank.fillna(0)\n",
    "data_bank.info()"
   ]
  },
  {
   "cell_type": "markdown",
   "metadata": {},
   "source": [
    "<a id='the_destination14'></a>"
   ]
  },
  {
   "cell_type": "markdown",
   "metadata": {},
   "source": [
    "### 1.4 Вывод."
   ]
  },
  {
   "cell_type": "markdown",
   "metadata": {},
   "source": [
    "Данные для дальнейшего анализа готовы, пропуски заменены на нули, заменять типы данных не потребовалось, все типы данных корректные."
   ]
  },
  {
   "cell_type": "markdown",
   "metadata": {},
   "source": [
    "<a id='the_destination2'></a>"
   ]
  },
  {
   "cell_type": "markdown",
   "metadata": {},
   "source": [
    "# Шаг 2. EDA."
   ]
  },
  {
   "cell_type": "markdown",
   "metadata": {},
   "source": [
    "<a id='the_destination21'></a>"
   ]
  },
  {
   "cell_type": "markdown",
   "metadata": {},
   "source": [
    "### 2.1 Проверить данные на аномалии."
   ]
  },
  {
   "cell_type": "code",
   "execution_count": 10,
   "metadata": {},
   "outputs": [
    {
     "data": {
      "text/html": [
       "<div>\n",
       "<style scoped>\n",
       "    .dataframe tbody tr th:only-of-type {\n",
       "        vertical-align: middle;\n",
       "    }\n",
       "\n",
       "    .dataframe tbody tr th {\n",
       "        vertical-align: top;\n",
       "    }\n",
       "\n",
       "    .dataframe thead th {\n",
       "        text-align: right;\n",
       "    }\n",
       "</style>\n",
       "<table border=\"1\" class=\"dataframe\">\n",
       "  <thead>\n",
       "    <tr style=\"text-align: right;\">\n",
       "      <th></th>\n",
       "      <th>userid</th>\n",
       "      <th>score</th>\n",
       "      <th>age</th>\n",
       "      <th>objects</th>\n",
       "      <th>balance</th>\n",
       "      <th>products</th>\n",
       "      <th>creditcard</th>\n",
       "      <th>loyalty</th>\n",
       "      <th>estimated_salary</th>\n",
       "      <th>churn</th>\n",
       "    </tr>\n",
       "  </thead>\n",
       "  <tbody>\n",
       "    <tr>\n",
       "      <td>count</td>\n",
       "      <td>1.000000e+04</td>\n",
       "      <td>10000.000000</td>\n",
       "      <td>10000.000000</td>\n",
       "      <td>10000.000000</td>\n",
       "      <td>10000.000000</td>\n",
       "      <td>10000.000000</td>\n",
       "      <td>10000.00000</td>\n",
       "      <td>10000.000000</td>\n",
       "      <td>10000.000000</td>\n",
       "      <td>10000.000000</td>\n",
       "    </tr>\n",
       "    <tr>\n",
       "      <td>mean</td>\n",
       "      <td>1.573368e+07</td>\n",
       "      <td>650.528800</td>\n",
       "      <td>38.921800</td>\n",
       "      <td>5.012800</td>\n",
       "      <td>76485.889288</td>\n",
       "      <td>1.530200</td>\n",
       "      <td>0.70550</td>\n",
       "      <td>0.515100</td>\n",
       "      <td>100090.239881</td>\n",
       "      <td>0.203700</td>\n",
       "    </tr>\n",
       "    <tr>\n",
       "      <td>std</td>\n",
       "      <td>7.193619e+04</td>\n",
       "      <td>96.653299</td>\n",
       "      <td>10.487806</td>\n",
       "      <td>2.892174</td>\n",
       "      <td>62397.405202</td>\n",
       "      <td>0.581654</td>\n",
       "      <td>0.45584</td>\n",
       "      <td>0.499797</td>\n",
       "      <td>57510.492818</td>\n",
       "      <td>0.402769</td>\n",
       "    </tr>\n",
       "    <tr>\n",
       "      <td>min</td>\n",
       "      <td>1.560844e+07</td>\n",
       "      <td>350.000000</td>\n",
       "      <td>18.000000</td>\n",
       "      <td>0.000000</td>\n",
       "      <td>0.000000</td>\n",
       "      <td>1.000000</td>\n",
       "      <td>0.00000</td>\n",
       "      <td>0.000000</td>\n",
       "      <td>11.580000</td>\n",
       "      <td>0.000000</td>\n",
       "    </tr>\n",
       "    <tr>\n",
       "      <td>25%</td>\n",
       "      <td>1.567126e+07</td>\n",
       "      <td>584.000000</td>\n",
       "      <td>32.000000</td>\n",
       "      <td>3.000000</td>\n",
       "      <td>0.000000</td>\n",
       "      <td>1.000000</td>\n",
       "      <td>0.00000</td>\n",
       "      <td>0.000000</td>\n",
       "      <td>51002.110000</td>\n",
       "      <td>0.000000</td>\n",
       "    </tr>\n",
       "    <tr>\n",
       "      <td>50%</td>\n",
       "      <td>1.573347e+07</td>\n",
       "      <td>652.000000</td>\n",
       "      <td>37.000000</td>\n",
       "      <td>5.000000</td>\n",
       "      <td>97198.540000</td>\n",
       "      <td>1.000000</td>\n",
       "      <td>1.00000</td>\n",
       "      <td>1.000000</td>\n",
       "      <td>100193.915000</td>\n",
       "      <td>0.000000</td>\n",
       "    </tr>\n",
       "    <tr>\n",
       "      <td>75%</td>\n",
       "      <td>1.579597e+07</td>\n",
       "      <td>718.000000</td>\n",
       "      <td>44.000000</td>\n",
       "      <td>7.000000</td>\n",
       "      <td>127644.240000</td>\n",
       "      <td>2.000000</td>\n",
       "      <td>1.00000</td>\n",
       "      <td>1.000000</td>\n",
       "      <td>149388.247500</td>\n",
       "      <td>0.000000</td>\n",
       "    </tr>\n",
       "    <tr>\n",
       "      <td>max</td>\n",
       "      <td>1.585843e+07</td>\n",
       "      <td>850.000000</td>\n",
       "      <td>92.000000</td>\n",
       "      <td>10.000000</td>\n",
       "      <td>250898.090000</td>\n",
       "      <td>4.000000</td>\n",
       "      <td>1.00000</td>\n",
       "      <td>1.000000</td>\n",
       "      <td>199992.480000</td>\n",
       "      <td>1.000000</td>\n",
       "    </tr>\n",
       "  </tbody>\n",
       "</table>\n",
       "</div>"
      ],
      "text/plain": [
       "             userid         score           age       objects        balance  \\\n",
       "count  1.000000e+04  10000.000000  10000.000000  10000.000000   10000.000000   \n",
       "mean   1.573368e+07    650.528800     38.921800      5.012800   76485.889288   \n",
       "std    7.193619e+04     96.653299     10.487806      2.892174   62397.405202   \n",
       "min    1.560844e+07    350.000000     18.000000      0.000000       0.000000   \n",
       "25%    1.567126e+07    584.000000     32.000000      3.000000       0.000000   \n",
       "50%    1.573347e+07    652.000000     37.000000      5.000000   97198.540000   \n",
       "75%    1.579597e+07    718.000000     44.000000      7.000000  127644.240000   \n",
       "max    1.585843e+07    850.000000     92.000000     10.000000  250898.090000   \n",
       "\n",
       "           products   creditcard       loyalty  estimated_salary         churn  \n",
       "count  10000.000000  10000.00000  10000.000000      10000.000000  10000.000000  \n",
       "mean       1.530200      0.70550      0.515100     100090.239881      0.203700  \n",
       "std        0.581654      0.45584      0.499797      57510.492818      0.402769  \n",
       "min        1.000000      0.00000      0.000000         11.580000      0.000000  \n",
       "25%        1.000000      0.00000      0.000000      51002.110000      0.000000  \n",
       "50%        1.000000      1.00000      1.000000     100193.915000      0.000000  \n",
       "75%        2.000000      1.00000      1.000000     149388.247500      0.000000  \n",
       "max        4.000000      1.00000      1.000000     199992.480000      1.000000  "
      ]
     },
     "execution_count": 10,
     "metadata": {},
     "output_type": "execute_result"
    }
   ],
   "source": [
    "data_bank.describe()"
   ]
  },
  {
   "cell_type": "code",
   "execution_count": 11,
   "metadata": {},
   "outputs": [
    {
     "data": {
      "text/plain": [
       "Text(0.5, 1.0, 'Поиск аномалиьных клиентов по столбцу кредтого рейтинга')"
      ]
     },
     "execution_count": 11,
     "metadata": {},
     "output_type": "execute_result"
    },
    {
     "data": {
      "image/png": "[encoded data removed]",
      "text/plain": [
       "<Figure size 432x288 with 1 Axes>"
      ]
     },
     "metadata": {
      "needs_background": "light"
     },
     "output_type": "display_data"
    }
   ],
   "source": [
    "data_bank.boxplot(column = 'score')\n",
    "plt.title('Поиск аномалиьных клиентов по столбцу кредтого рейтинга')"
   ]
  },
  {
   "cell_type": "code",
   "execution_count": 12,
   "metadata": {},
   "outputs": [
    {
     "data": {
      "text/plain": [
       "Text(0.5, 1.0, 'Поиск аномалиьных клиентов по столбцу возраста')"
      ]
     },
     "execution_count": 12,
     "metadata": {},
     "output_type": "execute_result"
    },
    {
     "data": {
      "image/png": "[encoded data removed]",
      "text/plain": [
       "<Figure size 432x288 with 1 Axes>"
      ]
     },
     "metadata": {
      "needs_background": "light"
     },
     "output_type": "display_data"
    }
   ],
   "source": [
    "data_bank.boxplot(column = 'age')\n",
    "plt.title('Поиск аномалиьных клиентов по столбцу возраста')"
   ]
  },
  {
   "cell_type": "code",
   "execution_count": 13,
   "metadata": {},
   "outputs": [
    {
     "data": {
      "text/plain": [
       "Text(0.5, 1.0, 'Поиск аномалиьных клиентов по столбцу количества объектов')"
      ]
     },
     "execution_count": 13,
     "metadata": {},
     "output_type": "execute_result"
    },
    {
     "data": {
      "image/png": "[encoded data removed]",
      "text/plain": [
       "<Figure size 432x288 with 1 Axes>"
      ]
     },
     "metadata": {
      "needs_background": "light"
     },
     "output_type": "display_data"
    }
   ],
   "source": [
    "data_bank.boxplot(column = 'objects')\n",
    "plt.title('Поиск аномалиьных клиентов по столбцу количества объектов')"
   ]
  },
  {
   "cell_type": "code",
   "execution_count": 14,
   "metadata": {},
   "outputs": [
    {
     "data": {
      "text/plain": [
       "Text(0.5, 1.0, 'Поиск аномалиьных клиентов по столбцу баланса')"
      ]
     },
     "execution_count": 14,
     "metadata": {},
     "output_type": "execute_result"
    },
    {
     "data": {
      "image/png": "[encoded data removed]",
      "text/plain": [
       "<Figure size 432x288 with 1 Axes>"
      ]
     },
     "metadata": {
      "needs_background": "light"
     },
     "output_type": "display_data"
    }
   ],
   "source": [
    "data_bank.boxplot(column = 'balance')\n",
    "plt.title('Поиск аномалиьных клиентов по столбцу баланса')"
   ]
  },
  {
   "cell_type": "code",
   "execution_count": 15,
   "metadata": {},
   "outputs": [
    {
     "data": {
      "text/plain": [
       "Text(0.5, 1.0, 'Поиск аномалиьных клиентов по столбцу наличия кредитной карты')"
      ]
     },
     "execution_count": 15,
     "metadata": {},
     "output_type": "execute_result"
    },
    {
     "data": {
      "image/png": "[encoded data removed]",
      "text/plain": [
       "<Figure size 432x288 with 1 Axes>"
      ]
     },
     "metadata": {
      "needs_background": "light"
     },
     "output_type": "display_data"
    }
   ],
   "source": [
    "data_bank.boxplot(column = 'creditcard')\n",
    "plt.title('Поиск аномалиьных клиентов по столбцу наличия кредитной карты')"
   ]
  },
  {
   "cell_type": "code",
   "execution_count": 16,
   "metadata": {},
   "outputs": [
    {
     "data": {
      "text/plain": [
       "Text(0.5, 1.0, 'Поиск аномалиьных клиентов по столбцу активности')"
      ]
     },
     "execution_count": 16,
     "metadata": {},
     "output_type": "execute_result"
    },
    {
     "data": {
      "image/png": "[encoded data removed]",
      "text/plain": [
       "<Figure size 432x288 with 1 Axes>"
      ]
     },
     "metadata": {
      "needs_background": "light"
     },
     "output_type": "display_data"
    }
   ],
   "source": [
    "data_bank.boxplot(column = 'loyalty')\n",
    "plt.title('Поиск аномалиьных клиентов по столбцу активности')"
   ]
  },
  {
   "cell_type": "code",
   "execution_count": 17,
   "metadata": {},
   "outputs": [
    {
     "data": {
      "text/plain": [
       "Text(0.5, 1.0, 'Поиск аномалиьных клиентов по столбцу заработной платы')"
      ]
     },
     "execution_count": 17,
     "metadata": {},
     "output_type": "execute_result"
    },
    {
     "data": {
      "image/png": "[encoded data removed]",
      "text/plain": [
       "<Figure size 432x288 with 1 Axes>"
      ]
     },
     "metadata": {
      "needs_background": "light"
     },
     "output_type": "display_data"
    }
   ],
   "source": [
    "data_bank.boxplot(column = 'estimated_salary')\n",
    "plt.title('Поиск аномалиьных клиентов по столбцу заработной платы')"
   ]
  },
  {
   "cell_type": "code",
   "execution_count": 18,
   "metadata": {},
   "outputs": [
    {
     "data": {
      "text/plain": [
       "Text(0.5, 1.0, 'Поиск аномалиьных клиентов по столбцу оттока клиентов')"
      ]
     },
     "execution_count": 18,
     "metadata": {},
     "output_type": "execute_result"
    },
    {
     "data": {
      "image/png": "[encoded data removed]",
      "text/plain": [
       "<Figure size 432x288 with 1 Axes>"
      ]
     },
     "metadata": {
      "needs_background": "light"
     },
     "output_type": "display_data"
    }
   ],
   "source": [
    "data_bank.boxplot(column = 'churn')\n",
    "plt.title('Поиск аномалиьных клиентов по столбцу оттока клиентов')"
   ]
  },
  {
   "cell_type": "markdown",
   "metadata": {},
   "source": [
    "\n",
    "Из графиков видно, можно сделать выводы. Аномальные значения существуют в столбцах с оттоком клиентов, с возрастом и с кредитным рейтингом клиентов.\n",
    "\n",
    "Получается, что для банка не характерны следующие клиенты:\n",
    "1. Клиенты у с кредитным рейтингом ниже 300\n",
    "2. Клиенты в возрасте 62 и старше\n",
    "3. Для банка не характерен уход клиентов."
   ]
  },
  {
   "cell_type": "markdown",
   "metadata": {},
   "source": [
    "<a id='the_destination22'></a>"
   ]
  },
  {
   "cell_type": "markdown",
   "metadata": {},
   "source": [
    "### 2.2 Изучить распределение признаков"
   ]
  },
  {
   "cell_type": "code",
   "execution_count": 19,
   "metadata": {},
   "outputs": [
    {
     "data": {
      "text/plain": [
       "products\n",
       "1    5084\n",
       "2    4590\n",
       "3     266\n",
       "4      60\n",
       "Name: userid, dtype: int64"
      ]
     },
     "metadata": {},
     "output_type": "display_data"
    }
   ],
   "source": [
    "# Посчитаем сколько клиентов используют продуктов.\n",
    "product_user = data_bank.groupby('products')['userid'].count()\n",
    "display(product_user.head())"
   ]
  },
  {
   "cell_type": "code",
   "execution_count": 20,
   "metadata": {},
   "outputs": [
    {
     "data": {
      "text/plain": [
       "Text(0, 0.5, 'Количество клиентов')"
      ]
     },
     "execution_count": 20,
     "metadata": {},
     "output_type": "execute_result"
    },
    {
     "data": {
      "image/png": "[encoded data removed]",
      "text/plain": [
       "<Figure size 720x504 with 1 Axes>"
      ]
     },
     "metadata": {
      "needs_background": "light"
     },
     "output_type": "display_data"
    }
   ],
   "source": [
    "# Посмотрим на графике распределние клиентов по продуктам.\n",
    "plt.figure(figsize=(10,7))\n",
    "product_user.plot(kind='bar', grid=True)\n",
    "plt.title('Распределние клиентов по продуктам')\n",
    "plt.xlabel('Количество продокутов')\n",
    "plt.ylabel('Количество клиентов')\n"
   ]
  },
  {
   "cell_type": "markdown",
   "metadata": {},
   "source": [
    "Из графика видно, что больше всего клиентов которые пользуются 1 или 2 продуктами."
   ]
  },
  {
   "cell_type": "code",
   "execution_count": 21,
   "metadata": {},
   "outputs": [
    {
     "data": {
      "text/plain": [
       "Text(0.5, 1.0, 'График распределния кредитного рейтинга')"
      ]
     },
     "execution_count": 21,
     "metadata": {},
     "output_type": "execute_result"
    },
    {
     "data": {
      "image/png": "[encoded data removed]",
      "text/plain": [
       "<Figure size 504x504 with 1 Axes>"
      ]
     },
     "metadata": {
      "needs_background": "light"
     },
     "output_type": "display_data"
    }
   ],
   "source": [
    "plt.figure(figsize=(7,7))\n",
    "sns.distplot(data_bank['score'])\n",
    "plt.xlabel('Кредитный рейтинг')\n",
    "plt.title('График распределния кредитного рейтинга')"
   ]
  },
  {
   "cell_type": "markdown",
   "metadata": {},
   "source": [
    "Кредитный рейтинг распределен в целом норамльно, есть в районе 850 пик. Это может говорить о том что группа клиентов имеет max кредитный рейтинг. В среднем у клиентов банка рейтинг от 550-800."
   ]
  },
  {
   "cell_type": "code",
   "execution_count": 22,
   "metadata": {},
   "outputs": [
    {
     "data": {
      "text/plain": [
       "Text(0, 0.5, 'Кол-во объектов')"
      ]
     },
     "execution_count": 22,
     "metadata": {},
     "output_type": "execute_result"
    },
    {
     "data": {
      "image/png": "[encoded data removed]",
      "text/plain": [
       "<Figure size 504x504 with 1 Axes>"
      ]
     },
     "metadata": {
      "needs_background": "light"
     },
     "output_type": "display_data"
    }
   ],
   "source": [
    "plt.figure(figsize=(7,7))\n",
    "sns.boxplot(data=data_bank['objects'])\n",
    "plt.title('График распределения объектов')\n",
    "plt.ylabel('Кол-во объектов')"
   ]
  },
  {
   "cell_type": "markdown",
   "metadata": {},
   "source": [
    "По графику видно, что большинство клиентов имеют от 3 до 7 объектов."
   ]
  },
  {
   "cell_type": "code",
   "execution_count": 23,
   "metadata": {},
   "outputs": [
    {
     "data": {
      "text/plain": [
       "Text(0.5, 1.0, 'График распределния клиентов по возврасту')"
      ]
     },
     "execution_count": 23,
     "metadata": {},
     "output_type": "execute_result"
    },
    {
     "data": {
      "image/png": "[encoded data removed]",
      "text/plain": [
       "<Figure size 504x504 with 1 Axes>"
      ]
     },
     "metadata": {
      "needs_background": "light"
     },
     "output_type": "display_data"
    }
   ],
   "source": [
    "plt.figure(figsize=(7,7))\n",
    "sns.distplot(data_bank['age'], bins=15)\n",
    "plt.xlabel('Возвраст')\n",
    "plt.title('График распределния клиентов по возврасту')"
   ]
  },
  {
   "cell_type": "markdown",
   "metadata": {},
   "source": [
    "По графику видно, что клиенты банка в массей свойе в возврасте от 25 до 65 лет. Есть не большая доля клиентов младше 20 лет.И присутствуют клиенты старше 70 лет.  "
   ]
  },
  {
   "cell_type": "code",
   "execution_count": 24,
   "metadata": {},
   "outputs": [
    {
     "data": {
      "text/plain": [
       "Text(0.5, 1.0, 'График распределния баланса')"
      ]
     },
     "execution_count": 24,
     "metadata": {},
     "output_type": "execute_result"
    },
    {
     "data": {
      "image/png": "[encoded data removed]",
      "text/plain": [
       "<Figure size 504x504 with 1 Axes>"
      ]
     },
     "metadata": {
      "needs_background": "light"
     },
     "output_type": "display_data"
    }
   ],
   "source": [
    "plt.figure(figsize=(7,7))\n",
    "sns.distplot(data_bank['balance'], bins=10)\n",
    "plt.xlabel('Баланс')\n",
    "plt.title('График распределния баланса')"
   ]
  },
  {
   "cell_type": "markdown",
   "metadata": {},
   "source": [
    "Большинство клиентов с балансом от 80 000 до до 160 000."
   ]
  },
  {
   "cell_type": "code",
   "execution_count": 25,
   "metadata": {},
   "outputs": [
    {
     "data": {
      "text/plain": [
       "Text(0.5, 1.0, 'Распределние заработной платы')"
      ]
     },
     "execution_count": 25,
     "metadata": {},
     "output_type": "execute_result"
    },
    {
     "data": {
      "image/png": "[encoded data removed]",
      "text/plain": [
       "<Figure size 504x504 with 1 Axes>"
      ]
     },
     "metadata": {
      "needs_background": "light"
     },
     "output_type": "display_data"
    }
   ],
   "source": [
    "plt.figure(figsize=(7,7))\n",
    "sns.boxplot(data=data_bank['estimated_salary'])\n",
    "plt.xlabel('Заработная плата клиентов')\n",
    "plt.title('Распределние заработной платы')"
   ]
  },
  {
   "cell_type": "markdown",
   "metadata": {},
   "source": [
    "Большиство клиентов имеют зарпалту от 50000 до 150000 т. рублей."
   ]
  },
  {
   "cell_type": "code",
   "execution_count": 26,
   "metadata": {},
   "outputs": [
    {
     "data": {
      "text/plain": [
       "Text(0.5, 1.0, 'Распределние по наличию кредитной карты')"
      ]
     },
     "execution_count": 26,
     "metadata": {},
     "output_type": "execute_result"
    },
    {
     "data": {
      "text/plain": [
       "<Figure size 504x504 with 0 Axes>"
      ]
     },
     "metadata": {},
     "output_type": "display_data"
    },
    {
     "data": {
      "image/png": "[encoded data removed]",
      "text/plain": [
       "<Figure size 432x288 with 1 Axes>"
      ]
     },
     "metadata": {
      "needs_background": "light"
     },
     "output_type": "display_data"
    }
   ],
   "source": [
    "plt.figure(figsize=(7,7))\n",
    "data_bank.hist(column='creditcard')\n",
    "plt.xlabel('кредитная карта')\n",
    "plt.title('Распределние по наличию кредитной карты')"
   ]
  },
  {
   "cell_type": "markdown",
   "metadata": {},
   "source": [
    "У 7000 клиентов есть крдитная карта."
   ]
  },
  {
   "cell_type": "code",
   "execution_count": 27,
   "metadata": {},
   "outputs": [
    {
     "data": {
      "text/plain": [
       "Text(0.5, 1.0, 'Распределние активность клиентов')"
      ]
     },
     "execution_count": 27,
     "metadata": {},
     "output_type": "execute_result"
    },
    {
     "data": {
      "text/plain": [
       "<Figure size 504x504 with 0 Axes>"
      ]
     },
     "metadata": {},
     "output_type": "display_data"
    },
    {
     "data": {
      "image/png": "[encoded data removed]",
      "text/plain": [
       "<Figure size 432x288 with 1 Axes>"
      ]
     },
     "metadata": {
      "needs_background": "light"
     },
     "output_type": "display_data"
    }
   ],
   "source": [
    "plt.figure(figsize=(7,7))\n",
    "data_bank.hist(column='loyalty')\n",
    "plt.xlabel('Активность клиентов')\n",
    "plt.title('Распределние активность клиентов')"
   ]
  },
  {
   "cell_type": "markdown",
   "metadata": {},
   "source": [
    "Кол-во активных клиентов и не активных клиентов практически одинакого."
   ]
  },
  {
   "cell_type": "code",
   "execution_count": 28,
   "metadata": {},
   "outputs": [
    {
     "data": {
      "text/plain": [
       "Text(0.5, 1.0, 'Распределние оттока клиентов')"
      ]
     },
     "execution_count": 28,
     "metadata": {},
     "output_type": "execute_result"
    },
    {
     "data": {
      "text/plain": [
       "<Figure size 504x504 with 0 Axes>"
      ]
     },
     "metadata": {},
     "output_type": "display_data"
    },
    {
     "data": {
      "image/png": "[encoded data removed]",
      "text/plain": [
       "<Figure size 432x288 with 1 Axes>"
      ]
     },
     "metadata": {
      "needs_background": "light"
     },
     "output_type": "display_data"
    }
   ],
   "source": [
    "plt.figure(figsize=(7,7))\n",
    "data_bank.hist(column='churn')\n",
    "plt.xlabel('Отток клиентов')\n",
    "plt.title('Распределние оттока клиентов')"
   ]
  },
  {
   "cell_type": "markdown",
   "metadata": {},
   "source": [
    "Большиство клиентов действующие. В отток попало чуть более 2000."
   ]
  },
  {
   "cell_type": "code",
   "execution_count": 29,
   "metadata": {},
   "outputs": [
    {
     "data": {
      "text/plain": [
       "Text(0.5, 1.0, 'Распределние клиентов по гендерному признаку')"
      ]
     },
     "execution_count": 29,
     "metadata": {},
     "output_type": "execute_result"
    },
    {
     "data": {
      "image/png": "[encoded data removed]",
      "text/plain": [
       "<Figure size 504x504 with 1 Axes>"
      ]
     },
     "metadata": {
      "needs_background": "light"
     },
     "output_type": "display_data"
    }
   ],
   "source": [
    "gender = data_bank.groupby('gender').agg({'userid': 'count'}).reset_index()\n",
    "plt.figure(figsize=(7,7))\n",
    "sns.barplot(data=gender, x=\"gender\", y=\"userid\")\n",
    "plt.xlabel('Пол клиента')\n",
    "plt.title('Распределние клиентов по гендерному признаку')"
   ]
  },
  {
   "cell_type": "markdown",
   "metadata": {},
   "source": [
    "Среди клиентов банка наблюдается не большое преобладание мужчин 5500. Женщин 4500"
   ]
  },
  {
   "cell_type": "code",
   "execution_count": 30,
   "metadata": {},
   "outputs": [
    {
     "data": {
      "text/plain": [
       "Text(0.5, 1.0, 'Распределние клиентов по городам')"
      ]
     },
     "execution_count": 30,
     "metadata": {},
     "output_type": "execute_result"
    },
    {
     "data": {
      "image/png": "[encoded data removed]",
      "text/plain": [
       "<Figure size 504x504 with 1 Axes>"
      ]
     },
     "metadata": {
      "needs_background": "light"
     },
     "output_type": "display_data"
    }
   ],
   "source": [
    "city = data_bank.groupby('city').agg({'userid': 'count'}).reset_index()\n",
    "plt.figure(figsize=(7,7))\n",
    "sns.barplot(data=city, x=\"city\", y=\"userid\")\n",
    "plt.xlabel('Город')\n",
    "plt.title('Распределние клиентов по городам')"
   ]
  },
  {
   "cell_type": "markdown",
   "metadata": {},
   "source": [
    "Большиство клиентов 5000 из Ярославля, в Рыбинске и Ростове Вкеликом поровну клиентов."
   ]
  },
  {
   "cell_type": "markdown",
   "metadata": {},
   "source": [
    "<a id='the_destination23'></a>"
   ]
  },
  {
   "cell_type": "markdown",
   "metadata": {},
   "source": [
    "### 2.3 Корреляционного анализа данных"
   ]
  },
  {
   "cell_type": "code",
   "execution_count": 31,
   "metadata": {},
   "outputs": [
    {
     "data": {
      "text/plain": [
       "Text(0.5, 1, 'График корреляции')"
      ]
     },
     "execution_count": 31,
     "metadata": {},
     "output_type": "execute_result"
    },
    {
     "data": {
      "image/png": "[encoded data removed]",
      "text/plain": [
       "<Figure size 864x504 with 2 Axes>"
      ]
     },
     "metadata": {
      "needs_background": "light"
     },
     "output_type": "display_data"
    }
   ],
   "source": [
    "corr_mat = data_bank.corr()\n",
    "plt.figure(figsize=(12,7))\n",
    "sns.heatmap(corr_mat, annot=True, fmt='.4f', linewidths=1, linecolor='gray')\n",
    "plt.title('График корреляции')\n"
   ]
  },
  {
   "cell_type": "markdown",
   "metadata": {},
   "source": [
    "Между собой данные практически не коррелируют. Наблюдается средне положительная корреляция между возврастом и оттоком клиентов."
   ]
  },
  {
   "cell_type": "markdown",
   "metadata": {},
   "source": [
    "<a id='the_destination24'></a>"
   ]
  },
  {
   "cell_type": "markdown",
   "metadata": {},
   "source": [
    "### 2.4 Выводы на основании графиков и корреляционного анализа."
   ]
  },
  {
   "cell_type": "markdown",
   "metadata": {},
   "source": [
    "- Между собой данные практически не коррелируют. Наблюдается не большая корреляция между кол-вом продуктов и балансом.\n",
    "\n",
    "- Большиство клиентов имеют зарпалту от 50000 до 150000 т. рублей. \n",
    "\n",
    "- Большинство клиентов с балансом от 80 000 до до 160 000.\n",
    "\n",
    "- Клиенты банка в массей свойе в возврасте от 25 до 65 лет. Есть не большая доля клиентов младше 20 лет.И присутствуют клиенты старше 70 лет. \n",
    "\n",
    "- Большинство клиентов имеют от 3 до 7 объектов.\n",
    "\n",
    "- Кредитный рейтинг распределен в целом норамльно, есть в районе 850 пик. Это может говорить о том что группа клиентов имеет max кредитный рейтинг. В среднем у клиентов банка рейтинг от 550-800. \n",
    "\n",
    "- Больше всего клиентов которые пользуются 1 или 2 продуктами."
   ]
  },
  {
   "cell_type": "markdown",
   "metadata": {},
   "source": [
    "### Типичный клиент\n",
    "Типичный клиент буде возврастом 35 лет, с кредитной картой, с 5 объектами, с зарплатой около 100000, с балансом около 100000, бал крдитного рейтинга 650, мужчина из Ярославля, пользуется одним или двумя продуктами."
   ]
  },
  {
   "cell_type": "markdown",
   "metadata": {},
   "source": [
    "<a id='the_destination3'></a>"
   ]
  },
  {
   "cell_type": "markdown",
   "metadata": {},
   "source": [
    "# Шаг 3. Сегментировать пользователей на основе данных о количестве потребляемых продуктов"
   ]
  },
  {
   "cell_type": "markdown",
   "metadata": {},
   "source": [
    "<a id='the_destination31'></a>"
   ]
  },
  {
   "cell_type": "markdown",
   "metadata": {},
   "source": [
    "### 3.1 Сегментировать пользователей по кол-ву потребляемых продуктов."
   ]
  },
  {
   "cell_type": "code",
   "execution_count": 32,
   "metadata": {},
   "outputs": [
    {
     "data": {
      "text/html": [
       "<div>\n",
       "<style scoped>\n",
       "    .dataframe tbody tr th:only-of-type {\n",
       "        vertical-align: middle;\n",
       "    }\n",
       "\n",
       "    .dataframe tbody tr th {\n",
       "        vertical-align: top;\n",
       "    }\n",
       "\n",
       "    .dataframe thead th {\n",
       "        text-align: right;\n",
       "    }\n",
       "</style>\n",
       "<table border=\"1\" class=\"dataframe\">\n",
       "  <thead>\n",
       "    <tr style=\"text-align: right;\">\n",
       "      <th></th>\n",
       "      <th>products</th>\n",
       "      <th>userid</th>\n",
       "      <th>score</th>\n",
       "      <th>city</th>\n",
       "      <th>gender</th>\n",
       "      <th>age</th>\n",
       "      <th>objects</th>\n",
       "      <th>balance</th>\n",
       "      <th>creditcard</th>\n",
       "      <th>loyalty</th>\n",
       "      <th>estimated_salary</th>\n",
       "      <th>churn</th>\n",
       "    </tr>\n",
       "  </thead>\n",
       "  <tbody>\n",
       "    <tr>\n",
       "      <td>0</td>\n",
       "      <td>1</td>\n",
       "      <td>5084</td>\n",
       "      <td>649.120968</td>\n",
       "      <td>[Ярославль, Рыбинск, Ростов Великий]</td>\n",
       "      <td>[Ж, М]</td>\n",
       "      <td>39.673092</td>\n",
       "      <td>4.974626</td>\n",
       "      <td>98551.870614</td>\n",
       "      <td>3578</td>\n",
       "      <td>2563</td>\n",
       "      <td>99487.256851</td>\n",
       "      <td>0.277144</td>\n",
       "    </tr>\n",
       "    <tr>\n",
       "      <td>1</td>\n",
       "      <td>2</td>\n",
       "      <td>4590</td>\n",
       "      <td>652.188671</td>\n",
       "      <td>[Ярославль, Рыбинск, Ростов Великий]</td>\n",
       "      <td>[Ж, М]</td>\n",
       "      <td>37.753595</td>\n",
       "      <td>5.051852</td>\n",
       "      <td>51879.145813</td>\n",
       "      <td>3246</td>\n",
       "      <td>2446</td>\n",
       "      <td>100452.012821</td>\n",
       "      <td>0.075817</td>\n",
       "    </tr>\n",
       "    <tr>\n",
       "      <td>2</td>\n",
       "      <td>3</td>\n",
       "      <td>266</td>\n",
       "      <td>648.105263</td>\n",
       "      <td>[Ярославль, Рыбинск, Ростов Великий]</td>\n",
       "      <td>[Ж, М]</td>\n",
       "      <td>43.195489</td>\n",
       "      <td>5.003759</td>\n",
       "      <td>75458.328195</td>\n",
       "      <td>190</td>\n",
       "      <td>113</td>\n",
       "      <td>104318.130564</td>\n",
       "      <td>0.827068</td>\n",
       "    </tr>\n",
       "    <tr>\n",
       "      <td>3</td>\n",
       "      <td>4</td>\n",
       "      <td>60</td>\n",
       "      <td>653.583333</td>\n",
       "      <td>[Ростов Великий, Ярославль, Рыбинск]</td>\n",
       "      <td>[Ж, М]</td>\n",
       "      <td>45.683333</td>\n",
       "      <td>5.300000</td>\n",
       "      <td>93733.135000</td>\n",
       "      <td>41</td>\n",
       "      <td>29</td>\n",
       "      <td>104763.723333</td>\n",
       "      <td>1.000000</td>\n",
       "    </tr>\n",
       "  </tbody>\n",
       "</table>\n",
       "</div>"
      ],
      "text/plain": [
       "   products  userid       score                                  city  gender  \\\n",
       "0         1    5084  649.120968  [Ярославль, Рыбинск, Ростов Великий]  [Ж, М]   \n",
       "1         2    4590  652.188671  [Ярославль, Рыбинск, Ростов Великий]  [Ж, М]   \n",
       "2         3     266  648.105263  [Ярославль, Рыбинск, Ростов Великий]  [Ж, М]   \n",
       "3         4      60  653.583333  [Ростов Великий, Ярославль, Рыбинск]  [Ж, М]   \n",
       "\n",
       "         age   objects       balance  creditcard  loyalty  estimated_salary  \\\n",
       "0  39.673092  4.974626  98551.870614        3578     2563      99487.256851   \n",
       "1  37.753595  5.051852  51879.145813        3246     2446     100452.012821   \n",
       "2  43.195489  5.003759  75458.328195         190      113     104318.130564   \n",
       "3  45.683333  5.300000  93733.135000          41       29     104763.723333   \n",
       "\n",
       "      churn  \n",
       "0  0.277144  \n",
       "1  0.075817  \n",
       "2  0.827068  \n",
       "3  1.000000  "
      ]
     },
     "execution_count": 32,
     "metadata": {},
     "output_type": "execute_result"
    }
   ],
   "source": [
    "#Сегментируем клиентов.\n",
    "product_gr = data_bank.groupby(['products']).agg({'userid':'count', 'score':'mean', 'city':'unique', 'gender':'unique',\n",
    "                                                  'age':'mean', 'objects':'mean', 'balance':'mean', 'creditcard':'sum', \n",
    "                                                  'loyalty':'sum', 'estimated_salary':'mean', 'churn':'mean'}).reset_index()\n",
    "product_gr"
   ]
  },
  {
   "cell_type": "markdown",
   "metadata": {},
   "source": [
    "### 3.2 Сегментация клиентов с по кол-ву исользуемых продуктов с учетом города и пола."
   ]
  },
  {
   "cell_type": "code",
   "execution_count": 33,
   "metadata": {},
   "outputs": [
    {
     "data": {
      "text/html": [
       "<div>\n",
       "<style scoped>\n",
       "    .dataframe tbody tr th:only-of-type {\n",
       "        vertical-align: middle;\n",
       "    }\n",
       "\n",
       "    .dataframe tbody tr th {\n",
       "        vertical-align: top;\n",
       "    }\n",
       "\n",
       "    .dataframe thead th {\n",
       "        text-align: right;\n",
       "    }\n",
       "</style>\n",
       "<table border=\"1\" class=\"dataframe\">\n",
       "  <thead>\n",
       "    <tr style=\"text-align: right;\">\n",
       "      <th></th>\n",
       "      <th>products</th>\n",
       "      <th>city</th>\n",
       "      <th>gender</th>\n",
       "      <th>userid</th>\n",
       "      <th>score</th>\n",
       "      <th>age</th>\n",
       "      <th>objects</th>\n",
       "      <th>balance</th>\n",
       "      <th>creditcard</th>\n",
       "      <th>loyalty</th>\n",
       "      <th>estimated_salary</th>\n",
       "      <th>churn</th>\n",
       "    </tr>\n",
       "  </thead>\n",
       "  <tbody>\n",
       "    <tr>\n",
       "      <td>0</td>\n",
       "      <td>1</td>\n",
       "      <td>Ростов Великий</td>\n",
       "      <td>Ж</td>\n",
       "      <td>664</td>\n",
       "      <td>654.456325</td>\n",
       "      <td>40.668675</td>\n",
       "      <td>5.072289</td>\n",
       "      <td>119787.702274</td>\n",
       "      <td>468</td>\n",
       "      <td>291</td>\n",
       "      <td>104585.412620</td>\n",
       "      <td>0.471386</td>\n",
       "    </tr>\n",
       "    <tr>\n",
       "      <td>1</td>\n",
       "      <td>1</td>\n",
       "      <td>Ростов Великий</td>\n",
       "      <td>М</td>\n",
       "      <td>685</td>\n",
       "      <td>648.442336</td>\n",
       "      <td>40.478832</td>\n",
       "      <td>4.940146</td>\n",
       "      <td>119946.482263</td>\n",
       "      <td>484</td>\n",
       "      <td>338</td>\n",
       "      <td>97581.683314</td>\n",
       "      <td>0.386861</td>\n",
       "    </tr>\n",
       "    <tr>\n",
       "      <td>2</td>\n",
       "      <td>1</td>\n",
       "      <td>Рыбинск</td>\n",
       "      <td>Ж</td>\n",
       "      <td>516</td>\n",
       "      <td>649.691860</td>\n",
       "      <td>39.955426</td>\n",
       "      <td>4.947674</td>\n",
       "      <td>88671.822190</td>\n",
       "      <td>359</td>\n",
       "      <td>276</td>\n",
       "      <td>100750.782733</td>\n",
       "      <td>0.267442</td>\n",
       "    </tr>\n",
       "    <tr>\n",
       "      <td>3</td>\n",
       "      <td>1</td>\n",
       "      <td>Рыбинск</td>\n",
       "      <td>М</td>\n",
       "      <td>705</td>\n",
       "      <td>648.371631</td>\n",
       "      <td>39.520567</td>\n",
       "      <td>4.978723</td>\n",
       "      <td>92003.248596</td>\n",
       "      <td>482</td>\n",
       "      <td>397</td>\n",
       "      <td>98204.348922</td>\n",
       "      <td>0.182979</td>\n",
       "    </tr>\n",
       "    <tr>\n",
       "      <td>4</td>\n",
       "      <td>1</td>\n",
       "      <td>Ярославль</td>\n",
       "      <td>Ж</td>\n",
       "      <td>1116</td>\n",
       "      <td>646.913082</td>\n",
       "      <td>39.685484</td>\n",
       "      <td>4.896057</td>\n",
       "      <td>86834.008638</td>\n",
       "      <td>786</td>\n",
       "      <td>568</td>\n",
       "      <td>97898.909149</td>\n",
       "      <td>0.278674</td>\n",
       "    </tr>\n",
       "    <tr>\n",
       "      <td>5</td>\n",
       "      <td>1</td>\n",
       "      <td>Ярославль</td>\n",
       "      <td>М</td>\n",
       "      <td>1398</td>\n",
       "      <td>648.849070</td>\n",
       "      <td>38.768240</td>\n",
       "      <td>5.015737</td>\n",
       "      <td>94285.859363</td>\n",
       "      <td>999</td>\n",
       "      <td>693</td>\n",
       "      <td>99448.064585</td>\n",
       "      <td>0.180973</td>\n",
       "    </tr>\n",
       "    <tr>\n",
       "      <td>6</td>\n",
       "      <td>2</td>\n",
       "      <td>Ростов Великий</td>\n",
       "      <td>Ж</td>\n",
       "      <td>462</td>\n",
       "      <td>652.279221</td>\n",
       "      <td>38.922078</td>\n",
       "      <td>4.885281</td>\n",
       "      <td>118176.420671</td>\n",
       "      <td>326</td>\n",
       "      <td>240</td>\n",
       "      <td>98056.437208</td>\n",
       "      <td>0.162338</td>\n",
       "    </tr>\n",
       "    <tr>\n",
       "      <td>7</td>\n",
       "      <td>2</td>\n",
       "      <td>Ростов Великий</td>\n",
       "      <td>М</td>\n",
       "      <td>578</td>\n",
       "      <td>650.955017</td>\n",
       "      <td>37.743945</td>\n",
       "      <td>5.136678</td>\n",
       "      <td>120272.298426</td>\n",
       "      <td>423</td>\n",
       "      <td>328</td>\n",
       "      <td>103050.633080</td>\n",
       "      <td>0.088235</td>\n",
       "    </tr>\n",
       "    <tr>\n",
       "      <td>8</td>\n",
       "      <td>2</td>\n",
       "      <td>Рыбинск</td>\n",
       "      <td>Ж</td>\n",
       "      <td>527</td>\n",
       "      <td>654.605313</td>\n",
       "      <td>38.170778</td>\n",
       "      <td>5.058824</td>\n",
       "      <td>31899.553719</td>\n",
       "      <td>382</td>\n",
       "      <td>270</td>\n",
       "      <td>100535.893909</td>\n",
       "      <td>0.100569</td>\n",
       "    </tr>\n",
       "    <tr>\n",
       "      <td>9</td>\n",
       "      <td>2</td>\n",
       "      <td>Рыбинск</td>\n",
       "      <td>М</td>\n",
       "      <td>656</td>\n",
       "      <td>653.689024</td>\n",
       "      <td>37.685976</td>\n",
       "      <td>5.160061</td>\n",
       "      <td>33326.545610</td>\n",
       "      <td>452</td>\n",
       "      <td>339</td>\n",
       "      <td>98713.911067</td>\n",
       "      <td>0.051829</td>\n",
       "    </tr>\n",
       "    <tr>\n",
       "      <td>10</td>\n",
       "      <td>2</td>\n",
       "      <td>Ярославль</td>\n",
       "      <td>Ж</td>\n",
       "      <td>1071</td>\n",
       "      <td>651.445378</td>\n",
       "      <td>37.359477</td>\n",
       "      <td>4.977591</td>\n",
       "      <td>32697.679272</td>\n",
       "      <td>741</td>\n",
       "      <td>563</td>\n",
       "      <td>101249.600308</td>\n",
       "      <td>0.076564</td>\n",
       "    </tr>\n",
       "    <tr>\n",
       "      <td>11</td>\n",
       "      <td>2</td>\n",
       "      <td>Ярославль</td>\n",
       "      <td>М</td>\n",
       "      <td>1296</td>\n",
       "      <td>651.578704</td>\n",
       "      <td>37.531636</td>\n",
       "      <td>5.077160</td>\n",
       "      <td>31109.483958</td>\n",
       "      <td>922</td>\n",
       "      <td>706</td>\n",
       "      <td>100333.592022</td>\n",
       "      <td>0.040895</td>\n",
       "    </tr>\n",
       "    <tr>\n",
       "      <td>12</td>\n",
       "      <td>3</td>\n",
       "      <td>Ростов Великий</td>\n",
       "      <td>Ж</td>\n",
       "      <td>53</td>\n",
       "      <td>651.000000</td>\n",
       "      <td>43.679245</td>\n",
       "      <td>4.509434</td>\n",
       "      <td>119781.833962</td>\n",
       "      <td>39</td>\n",
       "      <td>24</td>\n",
       "      <td>116895.623019</td>\n",
       "      <td>0.867925</td>\n",
       "    </tr>\n",
       "    <tr>\n",
       "      <td>13</td>\n",
       "      <td>3</td>\n",
       "      <td>Ростов Великий</td>\n",
       "      <td>М</td>\n",
       "      <td>43</td>\n",
       "      <td>657.069767</td>\n",
       "      <td>43.627907</td>\n",
       "      <td>5.627907</td>\n",
       "      <td>123779.984884</td>\n",
       "      <td>33</td>\n",
       "      <td>17</td>\n",
       "      <td>94092.047907</td>\n",
       "      <td>0.930233</td>\n",
       "    </tr>\n",
       "    <tr>\n",
       "      <td>14</td>\n",
       "      <td>3</td>\n",
       "      <td>Рыбинск</td>\n",
       "      <td>Ж</td>\n",
       "      <td>41</td>\n",
       "      <td>636.170732</td>\n",
       "      <td>41.975610</td>\n",
       "      <td>4.902439</td>\n",
       "      <td>53702.006585</td>\n",
       "      <td>25</td>\n",
       "      <td>15</td>\n",
       "      <td>108026.701951</td>\n",
       "      <td>0.853659</td>\n",
       "    </tr>\n",
       "    <tr>\n",
       "      <td>15</td>\n",
       "      <td>3</td>\n",
       "      <td>Рыбинск</td>\n",
       "      <td>М</td>\n",
       "      <td>25</td>\n",
       "      <td>664.800000</td>\n",
       "      <td>39.160000</td>\n",
       "      <td>4.640000</td>\n",
       "      <td>39667.477600</td>\n",
       "      <td>14</td>\n",
       "      <td>13</td>\n",
       "      <td>95346.663200</td>\n",
       "      <td>0.680000</td>\n",
       "    </tr>\n",
       "    <tr>\n",
       "      <td>16</td>\n",
       "      <td>3</td>\n",
       "      <td>Ярославль</td>\n",
       "      <td>Ж</td>\n",
       "      <td>55</td>\n",
       "      <td>641.545455</td>\n",
       "      <td>44.727273</td>\n",
       "      <td>5.163636</td>\n",
       "      <td>51968.027273</td>\n",
       "      <td>39</td>\n",
       "      <td>19</td>\n",
       "      <td>94756.056364</td>\n",
       "      <td>0.872727</td>\n",
       "    </tr>\n",
       "    <tr>\n",
       "      <td>17</td>\n",
       "      <td>3</td>\n",
       "      <td>Ярославль</td>\n",
       "      <td>М</td>\n",
       "      <td>49</td>\n",
       "      <td>645.938776</td>\n",
       "      <td>43.653061</td>\n",
       "      <td>5.081633</td>\n",
       "      <td>47943.429388</td>\n",
       "      <td>40</td>\n",
       "      <td>25</td>\n",
       "      <td>111894.942653</td>\n",
       "      <td>0.693878</td>\n",
       "    </tr>\n",
       "    <tr>\n",
       "      <td>18</td>\n",
       "      <td>4</td>\n",
       "      <td>Ростов Великий</td>\n",
       "      <td>Ж</td>\n",
       "      <td>14</td>\n",
       "      <td>623.285714</td>\n",
       "      <td>43.071429</td>\n",
       "      <td>4.285714</td>\n",
       "      <td>118297.152857</td>\n",
       "      <td>10</td>\n",
       "      <td>4</td>\n",
       "      <td>91166.285000</td>\n",
       "      <td>1.000000</td>\n",
       "    </tr>\n",
       "    <tr>\n",
       "      <td>19</td>\n",
       "      <td>4</td>\n",
       "      <td>Ростов Великий</td>\n",
       "      <td>М</td>\n",
       "      <td>10</td>\n",
       "      <td>666.700000</td>\n",
       "      <td>46.300000</td>\n",
       "      <td>5.100000</td>\n",
       "      <td>125845.519000</td>\n",
       "      <td>8</td>\n",
       "      <td>6</td>\n",
       "      <td>102234.764000</td>\n",
       "      <td>1.000000</td>\n",
       "    </tr>\n",
       "    <tr>\n",
       "      <td>20</td>\n",
       "      <td>4</td>\n",
       "      <td>Рыбинск</td>\n",
       "      <td>Ж</td>\n",
       "      <td>5</td>\n",
       "      <td>695.200000</td>\n",
       "      <td>46.800000</td>\n",
       "      <td>5.000000</td>\n",
       "      <td>84462.288000</td>\n",
       "      <td>5</td>\n",
       "      <td>2</td>\n",
       "      <td>60105.656000</td>\n",
       "      <td>1.000000</td>\n",
       "    </tr>\n",
       "    <tr>\n",
       "      <td>21</td>\n",
       "      <td>4</td>\n",
       "      <td>Рыбинск</td>\n",
       "      <td>М</td>\n",
       "      <td>2</td>\n",
       "      <td>517.500000</td>\n",
       "      <td>41.000000</td>\n",
       "      <td>4.500000</td>\n",
       "      <td>108771.060000</td>\n",
       "      <td>2</td>\n",
       "      <td>0</td>\n",
       "      <td>120398.135000</td>\n",
       "      <td>1.000000</td>\n",
       "    </tr>\n",
       "    <tr>\n",
       "      <td>22</td>\n",
       "      <td>4</td>\n",
       "      <td>Ярославль</td>\n",
       "      <td>Ж</td>\n",
       "      <td>19</td>\n",
       "      <td>677.421053</td>\n",
       "      <td>47.736842</td>\n",
       "      <td>5.947368</td>\n",
       "      <td>84491.978421</td>\n",
       "      <td>12</td>\n",
       "      <td>12</td>\n",
       "      <td>116299.360000</td>\n",
       "      <td>1.000000</td>\n",
       "    </tr>\n",
       "    <tr>\n",
       "      <td>23</td>\n",
       "      <td>4</td>\n",
       "      <td>Ярославль</td>\n",
       "      <td>М</td>\n",
       "      <td>10</td>\n",
       "      <td>644.000000</td>\n",
       "      <td>45.200000</td>\n",
       "      <td>6.000000</td>\n",
       "      <td>46417.162000</td>\n",
       "      <td>4</td>\n",
       "      <td>5</td>\n",
       "      <td>123613.538000</td>\n",
       "      <td>1.000000</td>\n",
       "    </tr>\n",
       "  </tbody>\n",
       "</table>\n",
       "</div>"
      ],
      "text/plain": [
       "    products            city gender  userid       score        age   objects  \\\n",
       "0          1  Ростов Великий      Ж     664  654.456325  40.668675  5.072289   \n",
       "1          1  Ростов Великий      М     685  648.442336  40.478832  4.940146   \n",
       "2          1         Рыбинск      Ж     516  649.691860  39.955426  4.947674   \n",
       "3          1         Рыбинск      М     705  648.371631  39.520567  4.978723   \n",
       "4          1       Ярославль      Ж    1116  646.913082  39.685484  4.896057   \n",
       "5          1       Ярославль      М    1398  648.849070  38.768240  5.015737   \n",
       "6          2  Ростов Великий      Ж     462  652.279221  38.922078  4.885281   \n",
       "7          2  Ростов Великий      М     578  650.955017  37.743945  5.136678   \n",
       "8          2         Рыбинск      Ж     527  654.605313  38.170778  5.058824   \n",
       "9          2         Рыбинск      М     656  653.689024  37.685976  5.160061   \n",
       "10         2       Ярославль      Ж    1071  651.445378  37.359477  4.977591   \n",
       "11         2       Ярославль      М    1296  651.578704  37.531636  5.077160   \n",
       "12         3  Ростов Великий      Ж      53  651.000000  43.679245  4.509434   \n",
       "13         3  Ростов Великий      М      43  657.069767  43.627907  5.627907   \n",
       "14         3         Рыбинск      Ж      41  636.170732  41.975610  4.902439   \n",
       "15         3         Рыбинск      М      25  664.800000  39.160000  4.640000   \n",
       "16         3       Ярославль      Ж      55  641.545455  44.727273  5.163636   \n",
       "17         3       Ярославль      М      49  645.938776  43.653061  5.081633   \n",
       "18         4  Ростов Великий      Ж      14  623.285714  43.071429  4.285714   \n",
       "19         4  Ростов Великий      М      10  666.700000  46.300000  5.100000   \n",
       "20         4         Рыбинск      Ж       5  695.200000  46.800000  5.000000   \n",
       "21         4         Рыбинск      М       2  517.500000  41.000000  4.500000   \n",
       "22         4       Ярославль      Ж      19  677.421053  47.736842  5.947368   \n",
       "23         4       Ярославль      М      10  644.000000  45.200000  6.000000   \n",
       "\n",
       "          balance  creditcard  loyalty  estimated_salary     churn  \n",
       "0   119787.702274         468      291     104585.412620  0.471386  \n",
       "1   119946.482263         484      338      97581.683314  0.386861  \n",
       "2    88671.822190         359      276     100750.782733  0.267442  \n",
       "3    92003.248596         482      397      98204.348922  0.182979  \n",
       "4    86834.008638         786      568      97898.909149  0.278674  \n",
       "5    94285.859363         999      693      99448.064585  0.180973  \n",
       "6   118176.420671         326      240      98056.437208  0.162338  \n",
       "7   120272.298426         423      328     103050.633080  0.088235  \n",
       "8    31899.553719         382      270     100535.893909  0.100569  \n",
       "9    33326.545610         452      339      98713.911067  0.051829  \n",
       "10   32697.679272         741      563     101249.600308  0.076564  \n",
       "11   31109.483958         922      706     100333.592022  0.040895  \n",
       "12  119781.833962          39       24     116895.623019  0.867925  \n",
       "13  123779.984884          33       17      94092.047907  0.930233  \n",
       "14   53702.006585          25       15     108026.701951  0.853659  \n",
       "15   39667.477600          14       13      95346.663200  0.680000  \n",
       "16   51968.027273          39       19      94756.056364  0.872727  \n",
       "17   47943.429388          40       25     111894.942653  0.693878  \n",
       "18  118297.152857          10        4      91166.285000  1.000000  \n",
       "19  125845.519000           8        6     102234.764000  1.000000  \n",
       "20   84462.288000           5        2      60105.656000  1.000000  \n",
       "21  108771.060000           2        0     120398.135000  1.000000  \n",
       "22   84491.978421          12       12     116299.360000  1.000000  \n",
       "23   46417.162000           4        5     123613.538000  1.000000  "
      ]
     },
     "execution_count": 33,
     "metadata": {},
     "output_type": "execute_result"
    }
   ],
   "source": [
    "product_gr1 = data_bank.groupby(['products', 'city', 'gender']).agg({'userid':'count', 'score':'mean',\n",
    "                                                  'age':'mean', 'objects':'mean', 'balance':'mean', 'creditcard':'sum', \n",
    "                                                  'loyalty':'sum', 'estimated_salary':'mean', 'churn':'mean'}).reset_index()\n",
    "product_gr1"
   ]
  },
  {
   "cell_type": "markdown",
   "metadata": {},
   "source": [
    "<a id='the_destination33'></a>"
   ]
  },
  {
   "cell_type": "markdown",
   "metadata": {},
   "source": [
    "### 3.3 Построим графики распределения с учтом кол-во используемых продуктов."
   ]
  },
  {
   "cell_type": "code",
   "execution_count": 35,
   "metadata": {
    "scrolled": false
   },
   "outputs": [
    {
     "data": {
      "image/png": "[encoded data removed]",
      "text/plain": [
       "<Figure size 720x360 with 1 Axes>"
      ]
     },
     "metadata": {
      "needs_background": "light"
     },
     "output_type": "display_data"
    },
    {
     "data": {
      "image/png": "[encoded data removed]",
      "text/plain": [
       "<Figure size 720x360 with 1 Axes>"
      ]
     },
     "metadata": {
      "needs_background": "light"
     },
     "output_type": "display_data"
    },
    {
     "data": {
      "image/png": "[encoded data removed]",
      "text/plain": [
       "<Figure size 720x360 with 1 Axes>"
      ]
     },
     "metadata": {
      "needs_background": "light"
     },
     "output_type": "display_data"
    },
    {
     "data": {
      "image/png": "[encoded data removed]",
      "text/plain": [
       "<Figure size 720x360 with 1 Axes>"
      ]
     },
     "metadata": {
      "needs_background": "light"
     },
     "output_type": "display_data"
    },
    {
     "data": {
      "image/png": "[encoded data removed]",
      "text/plain": [
       "<Figure size 720x360 with 1 Axes>"
      ]
     },
     "metadata": {
      "needs_background": "light"
     },
     "output_type": "display_data"
    },
    {
     "data": {
      "image/png": "[encoded data removed]",
      "text/plain": [
       "<Figure size 720x360 with 1 Axes>"
      ]
     },
     "metadata": {
      "needs_background": "light"
     },
     "output_type": "display_data"
    },
    {
     "data": {
      "image/png": "[encoded data removed]",
      "text/plain": [
       "<Figure size 720x360 with 1 Axes>"
      ]
     },
     "metadata": {
      "needs_background": "light"
     },
     "output_type": "display_data"
    },
    {
     "data": {
      "image/png": "[encoded data removed]",
      "text/plain": [
       "<Figure size 720x360 with 1 Axes>"
      ]
     },
     "metadata": {
      "needs_background": "light"
     },
     "output_type": "display_data"
    }
   ],
   "source": [
    "# построим графики распределения.\n",
    "col = ['score', 'age', 'objects', 'balance', 'creditcard', 'loyalty', 'estimated_salary', 'churn']\n",
    "y_label = ['Средний кредитный рейтинг по группам', 'Средний возвраст', 'Среднее кол-во объектов',\n",
    "          'Средний баланс', 'Кол-во клиентов с кредитной картой', 'Кол-во активных клиетов', \n",
    "          'Средняя зарплата', 'Количество ушедших/или нет клиетов'\n",
    "          ]\n",
    "title = ['График распределения среднего кредитного рейтинга по кол-ву продуктов',\n",
    "         'График распределения среднего возвраста по кол-ву продуктов',\n",
    "         'График распределения среднего кол-ва объектов по кол-ву продуктов',\n",
    "         'График распределения среднего баланса по кол-ву продуктов',\n",
    "         'График распределения кол-ва кредитных карт по кол-ву продуктов',\n",
    "         'График распределения активности по кол-ву продуктов',\n",
    "         'График распределения средней зарплаты по кол-ву продуктов',\n",
    "         'График распределения кол-ва ушедших/или нет клиентов по кол-ву продуктов'\n",
    "        ]\n",
    "count = 0\n",
    "\n",
    "for q in col:\n",
    "    product_gr.plot(x=\"products\", y=q, kind='bar', figsize=(10,5))\n",
    "    plt.xlabel('Кол-во продуктов')\n",
    "    plt.ylabel(y_label[count])\n",
    "    plt.title(title[count])\n",
    "    count += 1"
   ]
  },
  {
   "cell_type": "code",
   "execution_count": 36,
   "metadata": {},
   "outputs": [
    {
     "data": {
      "text/plain": [
       "Text(0.5, 1.0, 'График распределения групп по гендерному признаку')"
      ]
     },
     "execution_count": 36,
     "metadata": {},
     "output_type": "execute_result"
    },
    {
     "data": {
      "image/png": "[encoded data removed]",
      "text/plain": [
       "<Figure size 720x504 with 1 Axes>"
      ]
     },
     "metadata": {
      "needs_background": "light"
     },
     "output_type": "display_data"
    }
   ],
   "source": [
    "# построим шграфик распределния клиентов по гендерному признаку\n",
    "prod_gender = data_bank.groupby(['products', 'gender']).agg({'userid':'count'}).reset_index()\n",
    "\n",
    "plt.figure(figsize=(10,7))\n",
    "sns.barplot(data=prod_gender, x=\"products\", y=\"userid\", hue=\"gender\")\n",
    "plt.ylabel('Клиенты')\n",
    "plt.xlabel('Кол-во используемых продуктов')\n",
    "plt.title('График распределения групп по гендерному признаку')\n"
   ]
  },
  {
   "cell_type": "markdown",
   "metadata": {},
   "source": [
    "По 'Графику распределения пола по группам’ видно, клиентов мужчин немного больше, чем женщин в группах 1 и 2. В группах 3 и 4 этот показатель одинаков."
   ]
  },
  {
   "cell_type": "code",
   "execution_count": 38,
   "metadata": {},
   "outputs": [
    {
     "data": {
      "text/plain": [
       "Text(0.5, 1.0, 'График распределения групп по городам')"
      ]
     },
     "execution_count": 38,
     "metadata": {},
     "output_type": "execute_result"
    },
    {
     "data": {
      "image/png": "[encoded data removed]",
      "text/plain": [
       "<Figure size 720x504 with 1 Axes>"
      ]
     },
     "metadata": {
      "needs_background": "light"
     },
     "output_type": "display_data"
    }
   ],
   "source": [
    "#Построим график распределения клиентов по городам\n",
    "prod_city = data_bank.groupby(['products', 'city']).agg({'userid':'count'}).reset_index()\n",
    "\n",
    "plt.figure(figsize=(10,7))\n",
    "sns.barplot(data=prod_city, x=\"products\", y=\"userid\", hue=\"city\")\n",
    "plt.ylabel('Клиенты')\n",
    "plt.xlabel('Кол-во используемых продуктов')\n",
    "plt.title('График распределения групп по городам')"
   ]
  },
  {
   "cell_type": "markdown",
   "metadata": {},
   "source": [
    "Клиенты распределны в городах Ростов Великий и Рыбинск одинагого, в Ярославле клиентов гораздо больше у первой и второй группы. 3 и 4 группы по все трем городам распределны клиенты одинакого."
   ]
  },
  {
   "cell_type": "code",
   "execution_count": 39,
   "metadata": {},
   "outputs": [
    {
     "data": {
      "text/plain": [
       "Text(0.5, 1.0, 'График распределения групп ушедшим клиентам')"
      ]
     },
     "execution_count": 39,
     "metadata": {},
     "output_type": "execute_result"
    },
    {
     "data": {
      "image/png": "[encoded data removed]",
      "text/plain": [
       "<Figure size 720x504 with 1 Axes>"
      ]
     },
     "metadata": {
      "needs_background": "light"
     },
     "output_type": "display_data"
    }
   ],
   "source": [
    "# Построим график распределения ушедших/не ушдших клиентов\n",
    "prod_churn = data_bank.groupby(['products', 'churn']).agg({'userid':'count'}).reset_index()\n",
    "\n",
    "plt.figure(figsize=(10,7))\n",
    "sns.barplot(data=prod_churn, x=\"products\", y=\"userid\", hue=\"churn\")\n",
    "plt.ylabel('Клиенты')\n",
    "plt.xlabel('Кол-во используемых продуктов')\n",
    "plt.title('График распределения групп ушедшим клиентам')"
   ]
  },
  {
   "cell_type": "markdown",
   "metadata": {},
   "source": [
    "Из графика видно, что в первых двух группах клиенты с признаком churn=0 преобладают. В третьей и четвертой группе преобладает признак churn=1. В 3 и 4 группе наблюдается отток. Так же в первой группе по сравнению со второй достаточно высокий отток."
   ]
  },
  {
   "cell_type": "code",
   "execution_count": 40,
   "metadata": {},
   "outputs": [
    {
     "data": {
      "text/plain": [
       "Text(0.5, 1.0, 'График распределения групп по активности клиентов')"
      ]
     },
     "execution_count": 40,
     "metadata": {},
     "output_type": "execute_result"
    },
    {
     "data": {
      "image/png": "[encoded data removed]",
      "text/plain": [
       "<Figure size 720x504 with 1 Axes>"
      ]
     },
     "metadata": {
      "needs_background": "light"
     },
     "output_type": "display_data"
    }
   ],
   "source": [
    "# Построим график распределния по лояльности клиентов\n",
    "prod_loyalty = data_bank.groupby(['products', 'loyalty']).agg({'userid':'count'}).reset_index()\n",
    "\n",
    "plt.figure(figsize=(10,7))\n",
    "sns.barplot(data=prod_loyalty, x=\"products\", y=\"userid\", hue=\"loyalty\")\n",
    "plt.ylabel('Клиенты')\n",
    "plt.xlabel('Кол-во используемых продуктов')\n",
    "plt.title('График распределения групп по активности клиентов')"
   ]
  },
  {
   "cell_type": "markdown",
   "metadata": {},
   "source": [
    "Из графиков видно, что активность клиентов по группам распределна практически одинакого."
   ]
  },
  {
   "cell_type": "markdown",
   "metadata": {},
   "source": [
    "### Вывод\n",
    "Клиенты поделены на 4 группы. Первая и вторая группы большие 5084 и 4590 соответственно. Третья и четвертые группы маленькие 266 и 60 человек соответственно. Во всех группах активных и не активных клиентов приблизительно одинаковое кол-во. Из графика видно, что в первых двух группах клиенты с признаком churn=0 преобладают. В третьей и четвертой группе преобладает признак churn=1. Во всех группах клиентов больше из города Ярославль. По гендерному признаку среи клиентов преобладают мужчины. Средний кредитный рейтинг, возраст, кол-во объектов практически одинакого по всем группам. Баланс больше у клиентов 1 и 4 группы. Зарплата усех групп практически одинаковая."
   ]
  },
  {
   "cell_type": "markdown",
   "metadata": {},
   "source": [
    "<a id='the_destination4'></a>"
   ]
  },
  {
   "cell_type": "markdown",
   "metadata": {},
   "source": [
    "# Шаг 4. Сформулировать и проверить статистические гипотезы.\n"
   ]
  },
  {
   "cell_type": "markdown",
   "metadata": {},
   "source": [
    "Для проверки гипотез, и выбора критери проверки, необходимо проверить распределние нормальное или нет. Воспользуемся критерием Шапиро-Уилка."
   ]
  },
  {
   "cell_type": "code",
   "execution_count": 41,
   "metadata": {},
   "outputs": [
    {
     "name": "stdout",
     "output_type": "stream",
     "text": [
      "p-значение:  0.0\n",
      "Отвергаем нулевую гипотезу: распределение не нормально\n"
     ]
    },
    {
     "name": "stderr",
     "output_type": "stream",
     "text": [
      "/opt/conda/lib/python3.7/site-packages/scipy/stats/morestats.py:1676: UserWarning: p-value may not be accurate for N > 5000.\n",
      "  warnings.warn(\"p-value may not be accurate for N > 5000.\")\n"
     ]
    }
   ],
   "source": [
    "h_0 = 'Не получилось отвергнуть нулевую гипотезу, распределние нормально'\n",
    "h_1 = 'Отвергаем нулевую гипотезу: распределение не нормально'\n",
    "\n",
    "alpha = 0.05 # критический уровень статистической значимости\n",
    "\n",
    "res = st.shapiro(data_bank['estimated_salary'])\n",
    "p_value = res[1] \n",
    "\n",
    "print('p-значение: ', p_value)\n",
    "\n",
    "if (p_value < alpha):\n",
    "    print(h_1)\n",
    "else:\n",
    "    print(h_0) "
   ]
  },
  {
   "cell_type": "markdown",
   "metadata": {},
   "source": [
    "Т.к.распределение не нормально, для проверки гепотезы используем критерий Уилкоксона-Манна-Уитни"
   ]
  },
  {
   "cell_type": "markdown",
   "metadata": {},
   "source": [
    "<a id='the_destination41'></a>"
   ]
  },
  {
   "cell_type": "markdown",
   "metadata": {},
   "source": [
    "### 4.1 Проверьте гипотезу различия дохода между теми клиентами, которые пользуются двумя продуктами банка, и теми, которые пользуются одним."
   ]
  },
  {
   "cell_type": "markdown",
   "metadata": {},
   "source": [
    "Сформулируем гипотезы для теста:\n",
    "\n",
    "h_0 - Доходы клиентов которые пользуются одним и двумя продуктами - равны\n",
    "\n",
    "h_1 - Доходы клиентов которые пользуются одним и двумя продуктами - не равны"
   ]
  },
  {
   "cell_type": "code",
   "execution_count": 42,
   "metadata": {},
   "outputs": [
    {
     "name": "stdout",
     "output_type": "stream",
     "text": [
      "Таблица с клиентами пользующимеся 1 продуктом:\n"
     ]
    },
    {
     "data": {
      "text/html": [
       "<div>\n",
       "<style scoped>\n",
       "    .dataframe tbody tr th:only-of-type {\n",
       "        vertical-align: middle;\n",
       "    }\n",
       "\n",
       "    .dataframe tbody tr th {\n",
       "        vertical-align: top;\n",
       "    }\n",
       "\n",
       "    .dataframe thead th {\n",
       "        text-align: right;\n",
       "    }\n",
       "</style>\n",
       "<table border=\"1\" class=\"dataframe\">\n",
       "  <thead>\n",
       "    <tr style=\"text-align: right;\">\n",
       "      <th></th>\n",
       "      <th>userid</th>\n",
       "      <th>score</th>\n",
       "      <th>city</th>\n",
       "      <th>gender</th>\n",
       "      <th>age</th>\n",
       "      <th>objects</th>\n",
       "      <th>balance</th>\n",
       "      <th>products</th>\n",
       "      <th>creditcard</th>\n",
       "      <th>loyalty</th>\n",
       "      <th>estimated_salary</th>\n",
       "      <th>churn</th>\n",
       "    </tr>\n",
       "  </thead>\n",
       "  <tbody>\n",
       "    <tr>\n",
       "      <td>0</td>\n",
       "      <td>15677338</td>\n",
       "      <td>619</td>\n",
       "      <td>Ярославль</td>\n",
       "      <td>Ж</td>\n",
       "      <td>42</td>\n",
       "      <td>2</td>\n",
       "      <td>0.00</td>\n",
       "      <td>1</td>\n",
       "      <td>1</td>\n",
       "      <td>1</td>\n",
       "      <td>101348.88</td>\n",
       "      <td>1</td>\n",
       "    </tr>\n",
       "    <tr>\n",
       "      <td>1</td>\n",
       "      <td>15690047</td>\n",
       "      <td>608</td>\n",
       "      <td>Рыбинск</td>\n",
       "      <td>Ж</td>\n",
       "      <td>41</td>\n",
       "      <td>1</td>\n",
       "      <td>83807.86</td>\n",
       "      <td>1</td>\n",
       "      <td>0</td>\n",
       "      <td>1</td>\n",
       "      <td>112542.58</td>\n",
       "      <td>0</td>\n",
       "    </tr>\n",
       "    <tr>\n",
       "      <td>4</td>\n",
       "      <td>15780624</td>\n",
       "      <td>850</td>\n",
       "      <td>Рыбинск</td>\n",
       "      <td>Ж</td>\n",
       "      <td>43</td>\n",
       "      <td>2</td>\n",
       "      <td>125510.82</td>\n",
       "      <td>1</td>\n",
       "      <td>1</td>\n",
       "      <td>1</td>\n",
       "      <td>79084.10</td>\n",
       "      <td>0</td>\n",
       "    </tr>\n",
       "    <tr>\n",
       "      <td>9</td>\n",
       "      <td>15635125</td>\n",
       "      <td>684</td>\n",
       "      <td>Ярославль</td>\n",
       "      <td>М</td>\n",
       "      <td>27</td>\n",
       "      <td>2</td>\n",
       "      <td>134603.88</td>\n",
       "      <td>1</td>\n",
       "      <td>1</td>\n",
       "      <td>1</td>\n",
       "      <td>71725.73</td>\n",
       "      <td>0</td>\n",
       "    </tr>\n",
       "    <tr>\n",
       "      <td>16</td>\n",
       "      <td>15780188</td>\n",
       "      <td>653</td>\n",
       "      <td>Ростов Великий</td>\n",
       "      <td>М</td>\n",
       "      <td>58</td>\n",
       "      <td>1</td>\n",
       "      <td>132602.88</td>\n",
       "      <td>1</td>\n",
       "      <td>1</td>\n",
       "      <td>0</td>\n",
       "      <td>5097.67</td>\n",
       "      <td>1</td>\n",
       "    </tr>\n",
       "  </tbody>\n",
       "</table>\n",
       "</div>"
      ],
      "text/plain": [
       "      userid  score            city gender  age  objects    balance  products  \\\n",
       "0   15677338    619       Ярославль      Ж   42        2       0.00         1   \n",
       "1   15690047    608         Рыбинск      Ж   41        1   83807.86         1   \n",
       "4   15780624    850         Рыбинск      Ж   43        2  125510.82         1   \n",
       "9   15635125    684       Ярославль      М   27        2  134603.88         1   \n",
       "16  15780188    653  Ростов Великий      М   58        1  132602.88         1   \n",
       "\n",
       "    creditcard  loyalty  estimated_salary  churn  \n",
       "0            1        1         101348.88      1  \n",
       "1            0        1         112542.58      0  \n",
       "4            1        1          79084.10      0  \n",
       "9            1        1          71725.73      0  \n",
       "16           1        0           5097.67      1  "
      ]
     },
     "metadata": {},
     "output_type": "display_data"
    },
    {
     "name": "stdout",
     "output_type": "stream",
     "text": [
      "\n",
      "Таблица с клиентами пользующимеся 2 продуктами:\n"
     ]
    },
    {
     "data": {
      "text/html": [
       "<div>\n",
       "<style scoped>\n",
       "    .dataframe tbody tr th:only-of-type {\n",
       "        vertical-align: middle;\n",
       "    }\n",
       "\n",
       "    .dataframe tbody tr th {\n",
       "        vertical-align: top;\n",
       "    }\n",
       "\n",
       "    .dataframe thead th {\n",
       "        text-align: right;\n",
       "    }\n",
       "</style>\n",
       "<table border=\"1\" class=\"dataframe\">\n",
       "  <thead>\n",
       "    <tr style=\"text-align: right;\">\n",
       "      <th></th>\n",
       "      <th>userid</th>\n",
       "      <th>score</th>\n",
       "      <th>city</th>\n",
       "      <th>gender</th>\n",
       "      <th>age</th>\n",
       "      <th>objects</th>\n",
       "      <th>balance</th>\n",
       "      <th>products</th>\n",
       "      <th>creditcard</th>\n",
       "      <th>loyalty</th>\n",
       "      <th>estimated_salary</th>\n",
       "      <th>churn</th>\n",
       "    </tr>\n",
       "  </thead>\n",
       "  <tbody>\n",
       "    <tr>\n",
       "      <td>3</td>\n",
       "      <td>15744090</td>\n",
       "      <td>699</td>\n",
       "      <td>Ярославль</td>\n",
       "      <td>Ж</td>\n",
       "      <td>39</td>\n",
       "      <td>1</td>\n",
       "      <td>0.00</td>\n",
       "      <td>2</td>\n",
       "      <td>0</td>\n",
       "      <td>0</td>\n",
       "      <td>93826.63</td>\n",
       "      <td>0</td>\n",
       "    </tr>\n",
       "    <tr>\n",
       "      <td>5</td>\n",
       "      <td>15616748</td>\n",
       "      <td>645</td>\n",
       "      <td>Рыбинск</td>\n",
       "      <td>М</td>\n",
       "      <td>44</td>\n",
       "      <td>8</td>\n",
       "      <td>113755.78</td>\n",
       "      <td>2</td>\n",
       "      <td>1</td>\n",
       "      <td>0</td>\n",
       "      <td>149756.71</td>\n",
       "      <td>1</td>\n",
       "    </tr>\n",
       "    <tr>\n",
       "      <td>6</td>\n",
       "      <td>15635267</td>\n",
       "      <td>822</td>\n",
       "      <td>Ярославль</td>\n",
       "      <td>М</td>\n",
       "      <td>50</td>\n",
       "      <td>7</td>\n",
       "      <td>0.00</td>\n",
       "      <td>2</td>\n",
       "      <td>1</td>\n",
       "      <td>1</td>\n",
       "      <td>10062.80</td>\n",
       "      <td>0</td>\n",
       "    </tr>\n",
       "    <tr>\n",
       "      <td>8</td>\n",
       "      <td>15835101</td>\n",
       "      <td>501</td>\n",
       "      <td>Ярославль</td>\n",
       "      <td>М</td>\n",
       "      <td>44</td>\n",
       "      <td>4</td>\n",
       "      <td>142051.07</td>\n",
       "      <td>2</td>\n",
       "      <td>0</td>\n",
       "      <td>1</td>\n",
       "      <td>74940.50</td>\n",
       "      <td>0</td>\n",
       "    </tr>\n",
       "    <tr>\n",
       "      <td>10</td>\n",
       "      <td>15810557</td>\n",
       "      <td>528</td>\n",
       "      <td>Ярославль</td>\n",
       "      <td>М</td>\n",
       "      <td>31</td>\n",
       "      <td>6</td>\n",
       "      <td>102016.72</td>\n",
       "      <td>2</td>\n",
       "      <td>0</td>\n",
       "      <td>0</td>\n",
       "      <td>80181.12</td>\n",
       "      <td>0</td>\n",
       "    </tr>\n",
       "  </tbody>\n",
       "</table>\n",
       "</div>"
      ],
      "text/plain": [
       "      userid  score       city gender  age  objects    balance  products  \\\n",
       "3   15744090    699  Ярославль      Ж   39        1       0.00         2   \n",
       "5   15616748    645    Рыбинск      М   44        8  113755.78         2   \n",
       "6   15635267    822  Ярославль      М   50        7       0.00         2   \n",
       "8   15835101    501  Ярославль      М   44        4  142051.07         2   \n",
       "10  15810557    528  Ярославль      М   31        6  102016.72         2   \n",
       "\n",
       "    creditcard  loyalty  estimated_salary  churn  \n",
       "3            0        0          93826.63      0  \n",
       "5            1        0         149756.71      1  \n",
       "6            1        1          10062.80      0  \n",
       "8            0        1          74940.50      0  \n",
       "10           0        0          80181.12      0  "
      ]
     },
     "metadata": {},
     "output_type": "display_data"
    }
   ],
   "source": [
    "#Для проведения теста, создадим таблицы с клиентами, которые пользуются одним и двумя продуктами.\n",
    "product_1 = data_bank.query('products == 1')\n",
    "print('Таблица с клиентами пользующимеся 1 продуктом:')\n",
    "display(product_1.head())\n",
    "print()\n",
    "print('Таблица с клиентами пользующимеся 2 продуктами:')\n",
    "product_2 = data_bank.query('products == 2')\n",
    "display(product_2.head())"
   ]
  },
  {
   "cell_type": "code",
   "execution_count": 43,
   "metadata": {},
   "outputs": [
    {
     "name": "stdout",
     "output_type": "stream",
     "text": [
      "p-значение:  0.20397833259638254\n",
      "Не получилось отвергнуть нулевую гипотезу: доходы клиентов, которые пользуются одним и двумя продуктами - равны\n"
     ]
    }
   ],
   "source": [
    "# Провдоим тест.\n",
    "\n",
    "h_0 = 'Не получилось отвергнуть нулевую гипотезу: доходы клиентов, которые пользуются одним и двумя продуктами - равны'\n",
    "h_1 = 'Отвергаем нулевую гипотезу: доходы клиентов, которые пользуются одним и двумя продуктами - не равны'\n",
    "\n",
    "\n",
    "res_m_wh = st.mannwhitneyu(product_1['estimated_salary'], product_2['estimated_salary'])\n",
    "\n",
    "print('p-значение: ', res_m_wh.pvalue)\n",
    "\n",
    "if (res_m_wh.pvalue < alpha):\n",
    "    print(h_1)\n",
    "else:\n",
    "    print(h_0) \n"
   ]
  },
  {
   "cell_type": "markdown",
   "metadata": {},
   "source": [
    "<a id='the_destination42'></a>"
   ]
  },
  {
   "cell_type": "markdown",
   "metadata": {},
   "source": [
    "### 4.2 Сформулировать и проверьте статистическую гипотезу относительно представленных данных."
   ]
  },
  {
   "cell_type": "markdown",
   "metadata": {},
   "source": [
    "Сравним кредитный ретиг клиентов из групп, которые пользуются одним или двумя продуктами. Исходя из графика \"График распределния кредитного рейтинга\" данные имеют нормальное распределние, независимые - используем t-критерий Стьюдента.  Сформулируем гипотезы:\n",
    "\n",
    "h_0 - кредитный ретиг клиентов, которые пользуются одним и двумя продуктами - равны\n",
    "\n",
    "h_1 - кредитный ретиг клиентов, которые пользуются одним и двумя продуктами - не равны"
   ]
  },
  {
   "cell_type": "code",
   "execution_count": 44,
   "metadata": {},
   "outputs": [
    {
     "name": "stdout",
     "output_type": "stream",
     "text": [
      "p-значение: 0.1191143371309672\n",
      "Не получилось отвергнуть нулевую гипотезу: кредитный ретиг клиентов, которые пользуются одним и двумя продуктами - равны\n"
     ]
    }
   ],
   "source": [
    "h_0 = 'Не получилось отвергнуть нулевую гипотезу: кредитный ретиг клиентов, которые пользуются одним и двумя продуктами - равны'\n",
    "h_1 = 'Отвергаем нулевую гипотезу: кредитный ретиг клиентов, которые пользуются одним и двумя продуктами - не равны'\n",
    "\n",
    "res_t_test_score = st.ttest_ind(product_1['score'], product_2['score'])\n",
    "\n",
    "print('p-значение:', res_t_test_score.pvalue)\n",
    "\n",
    "if (res_t_test_score.pvalue < alpha):\n",
    "    print(h_1)\n",
    "else:\n",
    "    print(h_0) "
   ]
  },
  {
   "cell_type": "markdown",
   "metadata": {},
   "source": [
    "Сравним возвраст клиентов из групп, которые пользуются одним или двумя продуктами. Исходя из графика \"График распределния возвраста\" данные имеют нормальное распределние, независимые - используем t-критерий Стьюдента.  Сформулируем гипотезы:\n",
    "\n",
    "h_0 - возвраста клиентов, которые пользуются одним и двумя продуктами - равны\n",
    "\n",
    "h_1 - возвраста клиентов, которые пользуются одним и двумя продуктами - не равны"
   ]
  },
  {
   "cell_type": "code",
   "execution_count": 45,
   "metadata": {},
   "outputs": [
    {
     "name": "stdout",
     "output_type": "stream",
     "text": [
      "p-значение: 1.730821607368763e-19\n",
      "Отвергаем нулевую гипотезу: возраста клиентов, которые пользуются одним и двумя продуктами - не равны\n"
     ]
    }
   ],
   "source": [
    "h_0 = 'Не получилось отвергнуть нулевую гипотезу: возраста клиентов, которые пользуются одним и двумя продуктами - равны'\n",
    "h_1 = 'Отвергаем нулевую гипотезу: возраста клиентов, которые пользуются одним и двумя продуктами - не равны'\n",
    "\n",
    "res_t_test_age = st.ttest_ind(product_1['age'], product_2['age'])\n",
    "\n",
    "print('p-значение:', res_t_test_age.pvalue)\n",
    "\n",
    "if (res_t_test_age.pvalue < alpha):\n",
    "    print(h_1)\n",
    "else:\n",
    "    print(h_0) "
   ]
  },
  {
   "cell_type": "markdown",
   "metadata": {},
   "source": [
    "<a id='the_destination5'></a>"
   ]
  },
  {
   "cell_type": "markdown",
   "metadata": {},
   "source": [
    "# Шаг 5. Общий вывод и рекомендации"
   ]
  },
  {
   "cell_type": "markdown",
   "metadata": {},
   "source": [
    "Описание клиентов по группам использования продуктов:\n",
    "\n",
    "1. Клиенты первой группы  их всего 5084. Их средний кредитный рейтинг 649,12. Они проживают в трех городах Ярославль, Рыбинск, Ростов Великий. Мужчина или женщина в возрасте 39 лет. Имеет 5 объектов. Имеют в среднем баланс 120000 т. Клиенты первой группы как правило имеют кредитную карту. Активны из них только 50%, с доходом 100000. 1409 из них отточные.\n",
    "\n",
    "\n",
    "2. Клиенты второй группы их 4590. Со средним кредитным рейтингом 652,18. Проживают в городах Ярославль, Рыбинск, Ростов Великий. Мужчина или женщина, в среднем им 37 лет, 5 объектов в пользовании. Со средним балансом на счету в районе 120000. Активных клиентов 2446, со средним доходом 100452,01. Ушедших клиентов 348.\n",
    "\n",
    "\n",
    "3. Клиенты третьей группы их 266. Со средним кредитным рейтингом 648,11. Проживают в городах Ярославль, Рыбинск, Ростов Великий. Мужчина или женщина со средним возвратом 43 года, 5 объектов в пользовании. Кредитные карты есть только у 190. Активными считаются 113 человек.\n",
    "\n",
    "\n",
    "4. Клиенты четвертой группы 60 человек. Проживают в городах Ярославль, Рыбинск, Ростов Великий. Мужчина или женщина со средним возвратом 45 лет. Имеют 5 объектов в пользовании. Со средним балансом 122260,61. Кредитную карту имеют 41 человек. Активных клиентов 29. Со средним доходом 104763,72. Все являются ушедешими.\n",
    "\n",
    "\n",
    "\n",
    "\n",
    "Выводы по графикам:\n",
    "\n",
    "- На 'График распределения среднего кредитного рейтинга по кол-ву продуктов'  видно, что в средний всех групп кредитный рейтинг практически одинаковый. \n",
    "\n",
    "\n",
    "- Из 'Графика распределения среднего возраста по кол-ву продуктов' возраст клиентов около 40 лет. При этом группы 1 и 2 немного моложе групп 3 и 4.\n",
    "\n",
    "\n",
    "- По 'Графику распределения среднего кол-ва объектов по кол-ву продуктов' видно, что все клиенты групп имеют одинаковое кол-во объектов.\n",
    "\n",
    "\n",
    "- 'График распределения среднего баланса по кол-ву продуктов' баланс у всех групп одинаковый.\n",
    "\n",
    "\n",
    "- 'График распределения кол-ва кредитных карт по кол-ву продуктов'  У первой и второй группы их кол-во преобладает. Это связано с тем, что группы 1 и 2 в разы больше групп 3 и 4.\n",
    "\n",
    "\n",
    "- 'График распределения активности по кол-ву продуктов' аналогичная картина  как и с кредитными картами\n",
    "\n",
    "\n",
    "- 'График распределения средней зарплаты по кол-ву продуктов' средняя доход в целом одинаковый по всем группам \n",
    "\n",
    "\n",
    "- 'График распределения кол-ва ушедших/или нет клиентов по кол-ву продуктов'  из данного графика видно, что большинство клиентов ушло в первой группе.\n",
    "\n",
    "\n",
    "- По 'Графику распределения пола по группам’ видно, клиентов мужчин немного больше, чем женщин в группах 1 и 2. В группах 3 и 4 этот показатель одинаков.\n",
    "\n",
    "\n",
    "- Из 'Графика распределения групп по городам '  большинство клиентов живет в городе Ярославль.\n",
    "\n",
    "\n",
    "- Из 'График распределения групп по ушедшим и оставшимся клиентам' видно, что в первых двух группах клиенты с признаком churn=0 преобладают. В третьей и четвертой группе преобладает признак churn=1. В 3 и 4 группе наблюдается отток. Так же в первой группе по сравнению со второй достаточно высокий отток. \n",
    "\n",
    "\n",
    "- Из 'График распределения групп по активности клиента (группы по-парно слева направо)' видно, что активность клиентов по группам распределена практически одинокого.\n",
    "\n",
    "\n",
    "\n",
    "Рекомендации:\n",
    "\n",
    "1.\tСобрать обратную связь с ушедших клиентов. Особенно из группы, которые пользуются 4 продуктами\n",
    "2.\tПовышать активность клиентов, т.к. она практически 50% во всех группах\n",
    "3.\tПоиск новых клиентов в городах Рыбинск и Ростов Великий\n",
    "4.\tПривлекать клиентов возрасте от 25 – 30 лет.\n",
    "5.\tТ.к. кредитный рейтинг достаточно высок предлагать кредитные карты или кредиты клиентам всех групп.\n"
   ]
  },
  {
   "cell_type": "code",
   "execution_count": null,
   "metadata": {},
   "outputs": [],
   "source": []
  }
 ],
 "metadata": {
  "kernelspec": {
   "display_name": "Python 3",
   "language": "python",
   "name": "python3"
  },
  "language_info": {
   "codemirror_mode": {
    "name": "ipython",
    "version": 3
   },
   "file_extension": ".py",
   "mimetype": "text/x-python",
   "name": "python",
   "nbconvert_exporter": "python",
   "pygments_lexer": "ipython3",
   "version": "3.8.5"
  }
 },
 "nbformat": 4,
 "nbformat_minor": 4
}
